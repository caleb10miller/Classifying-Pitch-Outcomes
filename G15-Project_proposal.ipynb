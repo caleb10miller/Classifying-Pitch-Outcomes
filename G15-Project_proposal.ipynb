{
  "cells": [
    {
      "cell_type": "markdown",
      "metadata": {},
      "source": [
        "# Project Proposal: DSCI 631"
      ]
    },
    {
      "cell_type": "markdown",
      "metadata": {},
      "source": [
        "## Team Members:\n",
        "\n",
        "- Caleb Miller : cm3962@drexel.edu\n",
        "    - Background : Caleb’s undergraduate background in Business Analytics gives him a unique perspective on Data Science. He has general knowledge of how a business operates, technical knowledge of an analyst/data scientist, and understands the divide between these departments and the executive suite. He aims to be a bridge between these departments. He has worked with a lot of data relating to sports, as his hope is to enter the world of sports analytics/science. His self identified skills include: Python, R, Java, C++, SQL, VBA, Pandas, NumPy, Dash, Matplotlib, Tableau, PowerBI, Model Development and Evaluation, Scikit-Learn, Requests, Selenium, BeautifulSoup4, Monte Carlo Simulation.\n",
        "- Robert Logovinsky : rsl32@drexel.edu\n",
        "    - Robert brings with him a robust background in data analysis and IT support, which are complemented by extensive experience with diverse datasets across multiple domains including finance, logistics, and sports. His recent studies have significantly enhanced his coding abilities in Python, Java, and C. More specifically, the numerous Python libraries that he has studied have been instrumental in honing in vital Data Science skills related to data cleaning, EDA and modeling.\n",
        "- Hashim Afzal : ha695@drexel.edu\n",
        "    - Background : Hashim has an undergraduate degree in Biology from Arizona State University and has completed research in the field of cellular biology at the Biodesign Institute studying infectious diseases. Now Hashim is at Drexel University studying Data Science. Prior to starting at Drexel, Hashim worked as an analyst where he designed and implemented transaction monitoring rules in the FinTech space. His self-identified skills are in statistical analysis and study design utilizing the scientific method.\n",
        "\n"
      ]
    },
    {
      "cell_type": "markdown",
      "metadata": {},
      "source": [
        "## Motivation Behind the Project:\n",
        "\n",
        "The goal of this project is to develop a model that will estimate the probability that a pitch will be called a strike when the batter does not swing at it. Estimating the likelihood of a taken pitch being called a strike is a key project for baseball teams. This model allows teams to leverage estimates of strike probability for various applications, such as evaluating catcher framing, making swing decisions, and analyzing umpire tendencies. \n",
        "\n",
        "## Detailed Description of Dataset:\n",
        "\n",
        "The dataset that we acquired is a collection of pitches from the 2022 MLB Season where the batter did not swing at the pitch. This dataset was sourced from baseballsavant.mlb.com and has 351,062 rows and 20 columns. \n",
        "\n",
        "### Column Breakdown: \n",
        "\n",
        "- game_pk : unique identifier for a specific game - data type is an integer\n",
        "- game_date : the date on which the game occurred in the format MM/DD/YYYY - data type is date\n",
        "- at_bat_number : unique identifier for a specific plate apperance - data type is an integer\n",
        "- pitch_number : pitch number within the plate appearance - data type is integer\n",
        "- pitch_type : identifies what type of pitch was thrown - data type is string\n",
        "    - can be one of:\n",
        "        - CH : changeup\n",
        "        - CS, CU : curveball\n",
        "        - EP : eephus\n",
        "        - FA, FF : four seam fastball\n",
        "        - FC : cutter\n",
        "        - FS : splitter\n",
        "        - KC : knuckle curve\n",
        "        - KN : knuckleball\n",
        "        - SI : sinker\n",
        "        - SL : slider\n",
        "- pitcher_name : name of the pitcher in lastname, firstname format - data type is string\n",
        "- pitcher : unique identifier for pitcher - data type is integer\n",
        "- batter : unique identifier for batter - date type is integer\n",
        "- catcher : unique identifier for catcher - data type is integer\n",
        "- description : describes whether a pitch was called a ball or strike - data type is string\n",
        "- zone : describes the zone location a ball when it crosses the plate - data type is integer\n",
        "- stand : whether the batter is left-handed or right-handed - data type is string\n",
        "    - can be one of:\n",
        "        - L : left-handed\n",
        "        - R : right-handed\n",
        "- p_throws : whether the pitcher is left-handed or right-handed - data type is string\n",
        "    - can be one of:\n",
        "        - L : left-handed\n",
        "        - R : right-handed\n",
        "- balls : how many balls are in the count at the time of the pitch - data type is integer\n",
        "- strikes : how many strikes are in the count at the time of the pitch - data type is integer\n",
        "- plate_x : horizontal position of the ball when it crosses the plate - data type is float\n",
        "    - center of the plate is 0,0, units in feet \n",
        "- plate_z : vertical position of the ball when it crosses the plate - data type is float\n",
        "    - the ground is 0,0, units in feet \n",
        "- sz_top : top of the batter's strike zone - set by the operator when the ball is halfway to the plate - data type is float\n",
        "- sz_bottom : bottom of the batter's strike zone - set by the operator when the ball is halfway to the plate - data type is float\n",
        "- broadcast : Link to a video of the pitch - data type is string"
      ]
    },
    {
      "cell_type": "markdown",
      "metadata": {},
      "source": [
        "## Data Preprocessing"
      ]
    },
    {
      "cell_type": "code",
      "execution_count": 279,
      "metadata": {
        "colab": {
          "base_uri": "https://localhost:8080/",
          "height": 74
        },
        "id": "5beJhERRP7ZZ",
        "outputId": "572c453d-d468-4dda-edbe-ad54dcb05658"
      },
      "outputs": [],
      "source": [
        "# from google.colab import files\n",
        "# uploaded = files.upload()"
      ]
    },
    {
      "cell_type": "code",
      "execution_count": 280,
      "metadata": {
        "colab": {
          "base_uri": "https://localhost:8080/"
        },
        "id": "-mhesBnRZBp3",
        "outputId": "e4591c58-fe65-4535-8c98-9de3adc37fc5"
      },
      "outputs": [
        {
          "name": "stdout",
          "output_type": "stream",
          "text": [
            "game_pk          False\n",
            "game_date        False\n",
            "at_bat_number    False\n",
            "pitch_number     False\n",
            "pitch_type        True\n",
            "pitcher_name     False\n",
            "pitcher          False\n",
            "batter           False\n",
            "catcher          False\n",
            "description      False\n",
            "zone              True\n",
            "stand            False\n",
            "p_throws         False\n",
            "balls            False\n",
            "strikes          False\n",
            "plate_x           True\n",
            "plate_z           True\n",
            "sz_top            True\n",
            "sz_bot            True\n",
            "broadcast         True\n",
            "dtype: bool\n"
          ]
        }
      ],
      "source": [
        "import pandas as pd\n",
        "import numpy as np\n",
        "df = pd.read_csv('k_prob.csv')\n",
        "print(df.isnull().any())"
      ]
    },
    {
      "cell_type": "code",
      "execution_count": 281,
      "metadata": {
        "id": "Gm7QFVOdalC9"
      },
      "outputs": [
        {
          "name": "stderr",
          "output_type": "stream",
          "text": [
            "C:\\Users\\Caleb\\AppData\\Local\\Temp\\ipykernel_7152\\713034893.py:2: SettingWithCopyWarning: \n",
            "A value is trying to be set on a copy of a slice from a DataFrame\n",
            "\n",
            "See the caveats in the documentation: https://pandas.pydata.org/pandas-docs/stable/user_guide/indexing.html#returning-a-view-versus-a-copy\n",
            "  df1.rename(columns = {'game_pk':'game_id', 'pitcher':'pitcher_id', 'catcher':'catcher_id', 'batter':'batter_id'}, inplace=True)\n"
          ]
        },
        {
          "data": {
            "text/plain": [
              "game_id            int64\n",
              "game_date         object\n",
              "at_bat_number      int64\n",
              "pitch_number       int64\n",
              "pitch_type        object\n",
              "pitcher_name      object\n",
              "pitcher_id         int64\n",
              "batter_id          int64\n",
              "catcher_id         int64\n",
              "description       object\n",
              "zone             float64\n",
              "stand             object\n",
              "p_throws          object\n",
              "balls              int64\n",
              "strikes            int64\n",
              "plate_x          float64\n",
              "plate_z          float64\n",
              "sz_top           float64\n",
              "sz_bot           float64\n",
              "broadcast         object\n",
              "dtype: object"
            ]
          },
          "execution_count": 281,
          "metadata": {},
          "output_type": "execute_result"
        }
      ],
      "source": [
        "df1 = df.dropna()\n",
        "df1.rename(columns = {'game_pk':'game_id', 'pitcher':'pitcher_id', 'catcher':'catcher_id', 'batter':'batter_id'}, inplace=True)\n",
        "df1.dtypes\n"
      ]
    },
    {
      "cell_type": "code",
      "execution_count": 282,
      "metadata": {
        "colab": {
          "base_uri": "https://localhost:8080/"
        },
        "id": "MAiTdytTazi2",
        "outputId": "cacfc704-270b-4c45-c687-1496b6871f01"
      },
      "outputs": [
        {
          "name": "stdout",
          "output_type": "stream",
          "text": [
            "game_id          False\n",
            "game_date        False\n",
            "at_bat_number    False\n",
            "pitch_number     False\n",
            "pitch_type       False\n",
            "pitcher_name     False\n",
            "pitcher_id       False\n",
            "batter_id        False\n",
            "catcher_id       False\n",
            "description      False\n",
            "zone             False\n",
            "stand            False\n",
            "p_throws         False\n",
            "balls            False\n",
            "strikes          False\n",
            "plate_x          False\n",
            "plate_z          False\n",
            "sz_top           False\n",
            "sz_bot           False\n",
            "broadcast        False\n",
            "dtype: bool\n"
          ]
        }
      ],
      "source": [
        "print(df1.isnull().any())"
      ]
    },
    {
      "cell_type": "markdown",
      "metadata": {},
      "source": [
        "no more null values"
      ]
    },
    {
      "cell_type": "code",
      "execution_count": 283,
      "metadata": {
        "colab": {
          "base_uri": "https://localhost:8080/"
        },
        "id": "PzDW3mJCa53M",
        "outputId": "97925761-7c8e-44c2-e0da-90a0bfff48a3"
      },
      "outputs": [
        {
          "name": "stdout",
          "output_type": "stream",
          "text": [
            "(350864, 20)\n"
          ]
        }
      ],
      "source": [
        "shape = df1.shape\n",
        "print(shape)"
      ]
    },
    {
      "cell_type": "markdown",
      "metadata": {},
      "source": [
        "lost less than 0.5% of data - better than imputing"
      ]
    },
    {
      "cell_type": "code",
      "execution_count": 284,
      "metadata": {
        "id": "hzVHKYrvb4fh"
      },
      "outputs": [],
      "source": [
        "df1 = df1.drop(columns=['pitcher_name'])"
      ]
    },
    {
      "cell_type": "markdown",
      "metadata": {},
      "source": [
        "drop pitcher name due to lack of info for ML algorithm - data captured in pitcher_id"
      ]
    },
    {
      "cell_type": "code",
      "execution_count": 285,
      "metadata": {
        "id": "QuJcbYc3cZcQ"
      },
      "outputs": [
        {
          "name": "stderr",
          "output_type": "stream",
          "text": [
            "C:\\Users\\Caleb\\AppData\\Local\\Temp\\ipykernel_7152\\2217854745.py:1: FutureWarning: Downcasting behavior in `replace` is deprecated and will be removed in a future version. To retain the old behavior, explicitly call `result.infer_objects(copy=False)`. To opt-in to the future behavior, set `pd.set_option('future.no_silent_downcasting', True)`\n",
            "  df1['description'] = df1['description'].replace({'ball': 0, 'called_strike': 1})\n"
          ]
        }
      ],
      "source": [
        "df1['description'] = df1['description'].replace({'ball': 0, 'called_strike': 1})"
      ]
    },
    {
      "cell_type": "markdown",
      "metadata": {},
      "source": [
        "for final model, will try using one hot encoding"
      ]
    },
    {
      "cell_type": "markdown",
      "metadata": {
        "id": "CPNc5AeQHMqY"
      },
      "source": [
        "### Potential analysis\n",
        "\n",
        "Look at the pitch count 0-0 vs 3-0 vs 3-2 vs 0-2..can do each pitch count vs correct call %\n",
        "\n",
        "group by each pitcher/batter/catcher (separately) and measure cc% for each (make sure sample size is large enough)\n",
        "\n",
        "prob called strike & prob called ball for each zone\n",
        "\n",
        "pitch type (x-axis) discreet\n",
        "strike_called_strike (y-axis)\n",
        "ball_called_strike (y-axis)\n",
        "\n",
        "P(CC) vs Strike-Count(x-axis)"
      ]
    },
    {
      "cell_type": "code",
      "execution_count": 286,
      "metadata": {
        "colab": {
          "base_uri": "https://localhost:8080/"
        },
        "id": "79AS5mW9c14c",
        "outputId": "592decf6-381a-4dda-f5f9-7154bd39ae97"
      },
      "outputs": [
        {
          "name": "stdout",
          "output_type": "stream",
          "text": [
            "   game_id game_date  at_bat_number  pitch_number pitch_type  pitcher_id  \\\n",
            "0   662588    4/9/22             51             6         CH      605135   \n",
            "1   662588    4/9/22             51             5         FC      605135   \n",
            "2   662588    4/9/22             51             1         SL      605135   \n",
            "3   662123    4/9/22             33             5         FF      607074   \n",
            "4   663205    4/9/22             37             7         SL      605540   \n",
            "\n",
            "   batter_id  catcher_id  description  zone stand p_throws  balls  strikes  \\\n",
            "0     605137      543510            1   8.0     L        R      2        2   \n",
            "1     605137      543510            0  11.0     L        R      1        2   \n",
            "2     605137      543510            0  14.0     L        R      0        0   \n",
            "3     643265      663698            0  11.0     R        L      1        2   \n",
            "4     664023      605170            0  14.0     L        R      2        2   \n",
            "\n",
            "   plate_x  plate_z  sz_top  sz_bot  \\\n",
            "0     0.17     2.20    3.74    1.82   \n",
            "1    -0.92     5.43    3.75    1.83   \n",
            "2     0.86     1.28    3.51    1.58   \n",
            "3    -0.15     5.07    3.58    1.85   \n",
            "4     1.46     2.40    3.40    1.60   \n",
            "\n",
            "                                           broadcast  \n",
            "0  https://sporty-clips.mlb.com/1034420a-0db5-43b...  \n",
            "1  https://sporty-clips.mlb.com/3c758e31-1f42-4ed...  \n",
            "2  https://sporty-clips.mlb.com/743d7d90-c6e5-40e...  \n",
            "3  https://sporty-clips.mlb.com/042a29c4-504c-49c...  \n",
            "4  https://sporty-clips.mlb.com/221061be-181c-43b...  \n"
          ]
        }
      ],
      "source": [
        "print(df1.head())"
      ]
    },
    {
      "cell_type": "code",
      "execution_count": 287,
      "metadata": {
        "id": "8GvtGn6bdAbR"
      },
      "outputs": [],
      "source": [
        "df1[\"bats_lefty\"] = df1[\"stand\"]\n",
        "df1[\"pitches_lefty\"] = df1[\"p_throws\"]"
      ]
    },
    {
      "cell_type": "code",
      "execution_count": 288,
      "metadata": {
        "id": "qv4HVsHTd2LT"
      },
      "outputs": [
        {
          "name": "stderr",
          "output_type": "stream",
          "text": [
            "C:\\Users\\Caleb\\AppData\\Local\\Temp\\ipykernel_7152\\2190153718.py:1: FutureWarning: Downcasting behavior in `replace` is deprecated and will be removed in a future version. To retain the old behavior, explicitly call `result.infer_objects(copy=False)`. To opt-in to the future behavior, set `pd.set_option('future.no_silent_downcasting', True)`\n",
            "  df1['bats_lefty'] = df1['bats_lefty'].replace({'R': 0, 'L': 1})\n",
            "C:\\Users\\Caleb\\AppData\\Local\\Temp\\ipykernel_7152\\2190153718.py:2: FutureWarning: Downcasting behavior in `replace` is deprecated and will be removed in a future version. To retain the old behavior, explicitly call `result.infer_objects(copy=False)`. To opt-in to the future behavior, set `pd.set_option('future.no_silent_downcasting', True)`\n",
            "  df1['pitches_lefty'] = df1['pitches_lefty'].replace({'R': 0, 'L': 1})\n"
          ]
        }
      ],
      "source": [
        "df1['bats_lefty'] = df1['bats_lefty'].replace({'R': 0, 'L': 1})\n",
        "df1['pitches_lefty'] = df1['pitches_lefty'].replace({'R': 0, 'L': 1})"
      ]
    },
    {
      "cell_type": "code",
      "execution_count": 289,
      "metadata": {
        "id": "fuOQQl0SegHj"
      },
      "outputs": [],
      "source": [
        "df1 = df1.drop(columns = [\"stand\"])\n",
        "df1 = df1.drop(columns = [\"p_throws\"])"
      ]
    },
    {
      "cell_type": "code",
      "execution_count": 290,
      "metadata": {
        "colab": {
          "base_uri": "https://localhost:8080/",
          "height": 400
        },
        "id": "ImkPkHwVeMtb",
        "outputId": "1130a88d-faac-4d47-ffcc-ec33679eb659"
      },
      "outputs": [
        {
          "data": {
            "text/html": [
              "<div>\n",
              "<style scoped>\n",
              "    .dataframe tbody tr th:only-of-type {\n",
              "        vertical-align: middle;\n",
              "    }\n",
              "\n",
              "    .dataframe tbody tr th {\n",
              "        vertical-align: top;\n",
              "    }\n",
              "\n",
              "    .dataframe thead th {\n",
              "        text-align: right;\n",
              "    }\n",
              "</style>\n",
              "<table border=\"1\" class=\"dataframe\">\n",
              "  <thead>\n",
              "    <tr style=\"text-align: right;\">\n",
              "      <th></th>\n",
              "      <th>game_id</th>\n",
              "      <th>game_date</th>\n",
              "      <th>at_bat_number</th>\n",
              "      <th>pitch_number</th>\n",
              "      <th>pitch_type</th>\n",
              "      <th>pitcher_id</th>\n",
              "      <th>batter_id</th>\n",
              "      <th>catcher_id</th>\n",
              "      <th>description</th>\n",
              "      <th>zone</th>\n",
              "      <th>balls</th>\n",
              "      <th>strikes</th>\n",
              "      <th>plate_x</th>\n",
              "      <th>plate_z</th>\n",
              "      <th>sz_top</th>\n",
              "      <th>sz_bot</th>\n",
              "      <th>broadcast</th>\n",
              "      <th>bats_lefty</th>\n",
              "      <th>pitches_lefty</th>\n",
              "    </tr>\n",
              "  </thead>\n",
              "  <tbody>\n",
              "    <tr>\n",
              "      <th>0</th>\n",
              "      <td>662588</td>\n",
              "      <td>4/9/22</td>\n",
              "      <td>51</td>\n",
              "      <td>6</td>\n",
              "      <td>CH</td>\n",
              "      <td>605135</td>\n",
              "      <td>605137</td>\n",
              "      <td>543510</td>\n",
              "      <td>1</td>\n",
              "      <td>8.0</td>\n",
              "      <td>2</td>\n",
              "      <td>2</td>\n",
              "      <td>0.17</td>\n",
              "      <td>2.20</td>\n",
              "      <td>3.74</td>\n",
              "      <td>1.82</td>\n",
              "      <td>https://sporty-clips.mlb.com/1034420a-0db5-43b...</td>\n",
              "      <td>1</td>\n",
              "      <td>0</td>\n",
              "    </tr>\n",
              "    <tr>\n",
              "      <th>1</th>\n",
              "      <td>662588</td>\n",
              "      <td>4/9/22</td>\n",
              "      <td>51</td>\n",
              "      <td>5</td>\n",
              "      <td>FC</td>\n",
              "      <td>605135</td>\n",
              "      <td>605137</td>\n",
              "      <td>543510</td>\n",
              "      <td>0</td>\n",
              "      <td>11.0</td>\n",
              "      <td>1</td>\n",
              "      <td>2</td>\n",
              "      <td>-0.92</td>\n",
              "      <td>5.43</td>\n",
              "      <td>3.75</td>\n",
              "      <td>1.83</td>\n",
              "      <td>https://sporty-clips.mlb.com/3c758e31-1f42-4ed...</td>\n",
              "      <td>1</td>\n",
              "      <td>0</td>\n",
              "    </tr>\n",
              "    <tr>\n",
              "      <th>2</th>\n",
              "      <td>662588</td>\n",
              "      <td>4/9/22</td>\n",
              "      <td>51</td>\n",
              "      <td>1</td>\n",
              "      <td>SL</td>\n",
              "      <td>605135</td>\n",
              "      <td>605137</td>\n",
              "      <td>543510</td>\n",
              "      <td>0</td>\n",
              "      <td>14.0</td>\n",
              "      <td>0</td>\n",
              "      <td>0</td>\n",
              "      <td>0.86</td>\n",
              "      <td>1.28</td>\n",
              "      <td>3.51</td>\n",
              "      <td>1.58</td>\n",
              "      <td>https://sporty-clips.mlb.com/743d7d90-c6e5-40e...</td>\n",
              "      <td>1</td>\n",
              "      <td>0</td>\n",
              "    </tr>\n",
              "    <tr>\n",
              "      <th>3</th>\n",
              "      <td>662123</td>\n",
              "      <td>4/9/22</td>\n",
              "      <td>33</td>\n",
              "      <td>5</td>\n",
              "      <td>FF</td>\n",
              "      <td>607074</td>\n",
              "      <td>643265</td>\n",
              "      <td>663698</td>\n",
              "      <td>0</td>\n",
              "      <td>11.0</td>\n",
              "      <td>1</td>\n",
              "      <td>2</td>\n",
              "      <td>-0.15</td>\n",
              "      <td>5.07</td>\n",
              "      <td>3.58</td>\n",
              "      <td>1.85</td>\n",
              "      <td>https://sporty-clips.mlb.com/042a29c4-504c-49c...</td>\n",
              "      <td>0</td>\n",
              "      <td>1</td>\n",
              "    </tr>\n",
              "    <tr>\n",
              "      <th>4</th>\n",
              "      <td>663205</td>\n",
              "      <td>4/9/22</td>\n",
              "      <td>37</td>\n",
              "      <td>7</td>\n",
              "      <td>SL</td>\n",
              "      <td>605540</td>\n",
              "      <td>664023</td>\n",
              "      <td>605170</td>\n",
              "      <td>0</td>\n",
              "      <td>14.0</td>\n",
              "      <td>2</td>\n",
              "      <td>2</td>\n",
              "      <td>1.46</td>\n",
              "      <td>2.40</td>\n",
              "      <td>3.40</td>\n",
              "      <td>1.60</td>\n",
              "      <td>https://sporty-clips.mlb.com/221061be-181c-43b...</td>\n",
              "      <td>1</td>\n",
              "      <td>0</td>\n",
              "    </tr>\n",
              "  </tbody>\n",
              "</table>\n",
              "</div>"
            ],
            "text/plain": [
              "   game_id game_date  at_bat_number  pitch_number pitch_type  pitcher_id  \\\n",
              "0   662588    4/9/22             51             6         CH      605135   \n",
              "1   662588    4/9/22             51             5         FC      605135   \n",
              "2   662588    4/9/22             51             1         SL      605135   \n",
              "3   662123    4/9/22             33             5         FF      607074   \n",
              "4   663205    4/9/22             37             7         SL      605540   \n",
              "\n",
              "   batter_id  catcher_id  description  zone  balls  strikes  plate_x  plate_z  \\\n",
              "0     605137      543510            1   8.0      2        2     0.17     2.20   \n",
              "1     605137      543510            0  11.0      1        2    -0.92     5.43   \n",
              "2     605137      543510            0  14.0      0        0     0.86     1.28   \n",
              "3     643265      663698            0  11.0      1        2    -0.15     5.07   \n",
              "4     664023      605170            0  14.0      2        2     1.46     2.40   \n",
              "\n",
              "   sz_top  sz_bot                                          broadcast  \\\n",
              "0    3.74    1.82  https://sporty-clips.mlb.com/1034420a-0db5-43b...   \n",
              "1    3.75    1.83  https://sporty-clips.mlb.com/3c758e31-1f42-4ed...   \n",
              "2    3.51    1.58  https://sporty-clips.mlb.com/743d7d90-c6e5-40e...   \n",
              "3    3.58    1.85  https://sporty-clips.mlb.com/042a29c4-504c-49c...   \n",
              "4    3.40    1.60  https://sporty-clips.mlb.com/221061be-181c-43b...   \n",
              "\n",
              "   bats_lefty  pitches_lefty  \n",
              "0           1              0  \n",
              "1           1              0  \n",
              "2           1              0  \n",
              "3           0              1  \n",
              "4           1              0  "
            ]
          },
          "execution_count": 290,
          "metadata": {},
          "output_type": "execute_result"
        }
      ],
      "source": [
        "df1.head()"
      ]
    },
    {
      "cell_type": "code",
      "execution_count": 291,
      "metadata": {
        "id": "TQqVeeD0e-D_"
      },
      "outputs": [],
      "source": [
        "df1 = df1.rename(columns = {\"description\":\"is_strike\"})"
      ]
    },
    {
      "cell_type": "code",
      "execution_count": 292,
      "metadata": {
        "id": "8U8GydjLfyF2"
      },
      "outputs": [],
      "source": [
        "df1[\"zone\"] = df1[\"zone\"].astype(int)"
      ]
    },
    {
      "cell_type": "code",
      "execution_count": 293,
      "metadata": {
        "id": "hg4kUACOh3Fh"
      },
      "outputs": [],
      "source": [
        "df1['ball_called_ball'] = 0\n",
        "df1['strike_called_ball'] = 0\n",
        "df1['ball_called_strike'] = 0\n",
        "df1['strike_called_strike'] = 0\n"
      ]
    },
    {
      "cell_type": "code",
      "execution_count": 294,
      "metadata": {
        "colab": {
          "base_uri": "https://localhost:8080/",
          "height": 429
        },
        "id": "OksUAZHHis4T",
        "outputId": "705ddb2d-c695-4468-8945-3e324620ebcf"
      },
      "outputs": [
        {
          "data": {
            "text/html": [
              "<div>\n",
              "<style scoped>\n",
              "    .dataframe tbody tr th:only-of-type {\n",
              "        vertical-align: middle;\n",
              "    }\n",
              "\n",
              "    .dataframe tbody tr th {\n",
              "        vertical-align: top;\n",
              "    }\n",
              "\n",
              "    .dataframe thead th {\n",
              "        text-align: right;\n",
              "    }\n",
              "</style>\n",
              "<table border=\"1\" class=\"dataframe\">\n",
              "  <thead>\n",
              "    <tr style=\"text-align: right;\">\n",
              "      <th></th>\n",
              "      <th>game_id</th>\n",
              "      <th>game_date</th>\n",
              "      <th>at_bat_number</th>\n",
              "      <th>pitch_number</th>\n",
              "      <th>pitch_type</th>\n",
              "      <th>pitcher_id</th>\n",
              "      <th>batter_id</th>\n",
              "      <th>catcher_id</th>\n",
              "      <th>is_strike</th>\n",
              "      <th>zone</th>\n",
              "      <th>...</th>\n",
              "      <th>plate_z</th>\n",
              "      <th>sz_top</th>\n",
              "      <th>sz_bot</th>\n",
              "      <th>broadcast</th>\n",
              "      <th>bats_lefty</th>\n",
              "      <th>pitches_lefty</th>\n",
              "      <th>ball_called_ball</th>\n",
              "      <th>strike_called_ball</th>\n",
              "      <th>ball_called_strike</th>\n",
              "      <th>strike_called_strike</th>\n",
              "    </tr>\n",
              "  </thead>\n",
              "  <tbody>\n",
              "    <tr>\n",
              "      <th>0</th>\n",
              "      <td>662588</td>\n",
              "      <td>4/9/22</td>\n",
              "      <td>51</td>\n",
              "      <td>6</td>\n",
              "      <td>CH</td>\n",
              "      <td>605135</td>\n",
              "      <td>605137</td>\n",
              "      <td>543510</td>\n",
              "      <td>1</td>\n",
              "      <td>8</td>\n",
              "      <td>...</td>\n",
              "      <td>2.20</td>\n",
              "      <td>3.74</td>\n",
              "      <td>1.82</td>\n",
              "      <td>https://sporty-clips.mlb.com/1034420a-0db5-43b...</td>\n",
              "      <td>1</td>\n",
              "      <td>0</td>\n",
              "      <td>0</td>\n",
              "      <td>0</td>\n",
              "      <td>0</td>\n",
              "      <td>0</td>\n",
              "    </tr>\n",
              "    <tr>\n",
              "      <th>1</th>\n",
              "      <td>662588</td>\n",
              "      <td>4/9/22</td>\n",
              "      <td>51</td>\n",
              "      <td>5</td>\n",
              "      <td>FC</td>\n",
              "      <td>605135</td>\n",
              "      <td>605137</td>\n",
              "      <td>543510</td>\n",
              "      <td>0</td>\n",
              "      <td>11</td>\n",
              "      <td>...</td>\n",
              "      <td>5.43</td>\n",
              "      <td>3.75</td>\n",
              "      <td>1.83</td>\n",
              "      <td>https://sporty-clips.mlb.com/3c758e31-1f42-4ed...</td>\n",
              "      <td>1</td>\n",
              "      <td>0</td>\n",
              "      <td>0</td>\n",
              "      <td>0</td>\n",
              "      <td>0</td>\n",
              "      <td>0</td>\n",
              "    </tr>\n",
              "    <tr>\n",
              "      <th>2</th>\n",
              "      <td>662588</td>\n",
              "      <td>4/9/22</td>\n",
              "      <td>51</td>\n",
              "      <td>1</td>\n",
              "      <td>SL</td>\n",
              "      <td>605135</td>\n",
              "      <td>605137</td>\n",
              "      <td>543510</td>\n",
              "      <td>0</td>\n",
              "      <td>14</td>\n",
              "      <td>...</td>\n",
              "      <td>1.28</td>\n",
              "      <td>3.51</td>\n",
              "      <td>1.58</td>\n",
              "      <td>https://sporty-clips.mlb.com/743d7d90-c6e5-40e...</td>\n",
              "      <td>1</td>\n",
              "      <td>0</td>\n",
              "      <td>0</td>\n",
              "      <td>0</td>\n",
              "      <td>0</td>\n",
              "      <td>0</td>\n",
              "    </tr>\n",
              "    <tr>\n",
              "      <th>3</th>\n",
              "      <td>662123</td>\n",
              "      <td>4/9/22</td>\n",
              "      <td>33</td>\n",
              "      <td>5</td>\n",
              "      <td>FF</td>\n",
              "      <td>607074</td>\n",
              "      <td>643265</td>\n",
              "      <td>663698</td>\n",
              "      <td>0</td>\n",
              "      <td>11</td>\n",
              "      <td>...</td>\n",
              "      <td>5.07</td>\n",
              "      <td>3.58</td>\n",
              "      <td>1.85</td>\n",
              "      <td>https://sporty-clips.mlb.com/042a29c4-504c-49c...</td>\n",
              "      <td>0</td>\n",
              "      <td>1</td>\n",
              "      <td>0</td>\n",
              "      <td>0</td>\n",
              "      <td>0</td>\n",
              "      <td>0</td>\n",
              "    </tr>\n",
              "    <tr>\n",
              "      <th>4</th>\n",
              "      <td>663205</td>\n",
              "      <td>4/9/22</td>\n",
              "      <td>37</td>\n",
              "      <td>7</td>\n",
              "      <td>SL</td>\n",
              "      <td>605540</td>\n",
              "      <td>664023</td>\n",
              "      <td>605170</td>\n",
              "      <td>0</td>\n",
              "      <td>14</td>\n",
              "      <td>...</td>\n",
              "      <td>2.40</td>\n",
              "      <td>3.40</td>\n",
              "      <td>1.60</td>\n",
              "      <td>https://sporty-clips.mlb.com/221061be-181c-43b...</td>\n",
              "      <td>1</td>\n",
              "      <td>0</td>\n",
              "      <td>0</td>\n",
              "      <td>0</td>\n",
              "      <td>0</td>\n",
              "      <td>0</td>\n",
              "    </tr>\n",
              "  </tbody>\n",
              "</table>\n",
              "<p>5 rows × 23 columns</p>\n",
              "</div>"
            ],
            "text/plain": [
              "   game_id game_date  at_bat_number  pitch_number pitch_type  pitcher_id  \\\n",
              "0   662588    4/9/22             51             6         CH      605135   \n",
              "1   662588    4/9/22             51             5         FC      605135   \n",
              "2   662588    4/9/22             51             1         SL      605135   \n",
              "3   662123    4/9/22             33             5         FF      607074   \n",
              "4   663205    4/9/22             37             7         SL      605540   \n",
              "\n",
              "   batter_id  catcher_id  is_strike  zone  ...  plate_z  sz_top  sz_bot  \\\n",
              "0     605137      543510          1     8  ...     2.20    3.74    1.82   \n",
              "1     605137      543510          0    11  ...     5.43    3.75    1.83   \n",
              "2     605137      543510          0    14  ...     1.28    3.51    1.58   \n",
              "3     643265      663698          0    11  ...     5.07    3.58    1.85   \n",
              "4     664023      605170          0    14  ...     2.40    3.40    1.60   \n",
              "\n",
              "                                           broadcast  bats_lefty  \\\n",
              "0  https://sporty-clips.mlb.com/1034420a-0db5-43b...           1   \n",
              "1  https://sporty-clips.mlb.com/3c758e31-1f42-4ed...           1   \n",
              "2  https://sporty-clips.mlb.com/743d7d90-c6e5-40e...           1   \n",
              "3  https://sporty-clips.mlb.com/042a29c4-504c-49c...           0   \n",
              "4  https://sporty-clips.mlb.com/221061be-181c-43b...           1   \n",
              "\n",
              "   pitches_lefty ball_called_ball  strike_called_ball  ball_called_strike  \\\n",
              "0              0                0                   0                   0   \n",
              "1              0                0                   0                   0   \n",
              "2              0                0                   0                   0   \n",
              "3              1                0                   0                   0   \n",
              "4              0                0                   0                   0   \n",
              "\n",
              "   strike_called_strike  \n",
              "0                     0  \n",
              "1                     0  \n",
              "2                     0  \n",
              "3                     0  \n",
              "4                     0  \n",
              "\n",
              "[5 rows x 23 columns]"
            ]
          },
          "execution_count": 294,
          "metadata": {},
          "output_type": "execute_result"
        }
      ],
      "source": [
        "df1.head()"
      ]
    },
    {
      "cell_type": "code",
      "execution_count": 295,
      "metadata": {
        "id": "Ov_PWu-xjnZV"
      },
      "outputs": [],
      "source": [
        "df1.loc[(df1[\"is_strike\"] == 0) & (df1[\"zone\"].between(11,14)), \"ball_called_ball\"] = 1\n",
        "df1.loc[(df1[\"is_strike\"] == 0) & (df1[\"zone\"].between(1,9)), \"strike_called_ball\"] = 1\n",
        "df1.loc[(df1[\"is_strike\"] == 1) & (df1[\"zone\"].between(11,14)), \"ball_called_strike\"] = 1\n",
        "df1.loc[(df1[\"is_strike\"] == 1) & (df1[\"zone\"].between(1,9)), \"strike_called_strike\"] = 1"
      ]
    },
    {
      "cell_type": "markdown",
      "metadata": {},
      "source": [
        "## Exploratory Data Analysis (EDA)"
      ]
    },
    {
      "cell_type": "code",
      "execution_count": 296,
      "metadata": {
        "colab": {
          "base_uri": "https://localhost:8080/"
        },
        "id": "DvCAA3RFp86C",
        "outputId": "4b14bda2-b653-4938-dde1-6045411d602a"
      },
      "outputs": [
        {
          "name": "stdout",
          "output_type": "stream",
          "text": [
            "Total Balls Called:  239156\n",
            "Percent of balls called that were strikes:  0.06632490926424593\n"
          ]
        }
      ],
      "source": [
        "x = df1[\"ball_called_strike\"].sum()\n",
        "y = df1[\"ball_called_ball\"].sum()\n",
        "total_balls = x + y\n",
        "wrong_calls = x / total_balls\n",
        "print('Total Balls Called: ', total_balls)\n",
        "print('Percent of balls called that were strikes: ', wrong_calls)"
      ]
    },
    {
      "cell_type": "markdown",
      "metadata": {},
      "source": [
        "only 6% of balls were called strikes, incorrectly"
      ]
    },
    {
      "cell_type": "code",
      "execution_count": 297,
      "metadata": {
        "colab": {
          "base_uri": "https://localhost:8080/"
        },
        "id": "DYowNE_DrLOK",
        "outputId": "6a7d0a26-1c7d-4e9b-a8d6-3deecb537db2"
      },
      "outputs": [
        {
          "name": "stdout",
          "output_type": "stream",
          "text": [
            "Total Strikes Called:  111708\n",
            "Percent of strikes called that were balls:  0.1053908404053425\n"
          ]
        }
      ],
      "source": [
        "x = df1[\"strike_called_strike\"].sum()\n",
        "y = df1[\"strike_called_ball\"].sum()\n",
        "total_strikes = x + y\n",
        "wrong_calls = y / total_strikes\n",
        "print('Total Strikes Called: ', total_strikes)\n",
        "print('Percent of strikes called that were balls: ', wrong_calls)"
      ]
    },
    {
      "cell_type": "markdown",
      "metadata": {},
      "source": [
        "on the contrary, 10% of strikes were called balls, incorrectly"
      ]
    },
    {
      "cell_type": "markdown",
      "metadata": {
        "id": "enEuONx4r1R9"
      },
      "source": [
        "On pitches where a batter does not swing, the umpire is twice as likely to call a ball than a strike. (based off total balls / total strikes)\n",
        "\n",
        "Additionally, on these pitches, an umpire is more likely to call a strike a ball than call a ball a strike.\n",
        "\n",
        "Hypothesis: If the batter is unsure of whether or not to swing at a pitch, a batter is better off not swinging than swinging."
      ]
    },
    {
      "cell_type": "code",
      "execution_count": 298,
      "metadata": {
        "id": "1lLUHNTuwZea"
      },
      "outputs": [],
      "source": [
        "df1['correct_call'] = 0"
      ]
    },
    {
      "cell_type": "code",
      "execution_count": 299,
      "metadata": {
        "id": "5F6VodbXB69s"
      },
      "outputs": [],
      "source": [
        "df1.loc[(df1[\"strike_called_strike\"] == 1) | (df1[\"ball_called_ball\"] ==1), \"correct_call\"] = 1"
      ]
    },
    {
      "cell_type": "code",
      "execution_count": 300,
      "metadata": {
        "colab": {
          "base_uri": "https://localhost:8080/",
          "height": 256
        },
        "id": "t02Os0STC3Fy",
        "outputId": "53eaf1c4-a77b-4a38-8fe8-0a114e9ecba8"
      },
      "outputs": [
        {
          "data": {
            "text/html": [
              "<div>\n",
              "<style scoped>\n",
              "    .dataframe tbody tr th:only-of-type {\n",
              "        vertical-align: middle;\n",
              "    }\n",
              "\n",
              "    .dataframe tbody tr th {\n",
              "        vertical-align: top;\n",
              "    }\n",
              "\n",
              "    .dataframe thead th {\n",
              "        text-align: right;\n",
              "    }\n",
              "</style>\n",
              "<table border=\"1\" class=\"dataframe\">\n",
              "  <thead>\n",
              "    <tr style=\"text-align: right;\">\n",
              "      <th></th>\n",
              "      <th>game_id</th>\n",
              "      <th>game_date</th>\n",
              "      <th>at_bat_number</th>\n",
              "      <th>pitch_number</th>\n",
              "      <th>pitch_type</th>\n",
              "      <th>pitcher_id</th>\n",
              "      <th>batter_id</th>\n",
              "      <th>catcher_id</th>\n",
              "      <th>is_strike</th>\n",
              "      <th>zone</th>\n",
              "      <th>...</th>\n",
              "      <th>pitches_lefty</th>\n",
              "      <th>ball_called_ball</th>\n",
              "      <th>strike_called_ball</th>\n",
              "      <th>ball_called_strike</th>\n",
              "      <th>strike_called_strike</th>\n",
              "      <th>correct_call</th>\n",
              "      <th>p_lefty_correct_call</th>\n",
              "      <th>p_righty_correct_call</th>\n",
              "      <th>b_righty_correct_call</th>\n",
              "      <th>b_lefty_correct_call</th>\n",
              "    </tr>\n",
              "  </thead>\n",
              "  <tbody>\n",
              "    <tr>\n",
              "      <th>0</th>\n",
              "      <td>662588</td>\n",
              "      <td>4/9/22</td>\n",
              "      <td>51</td>\n",
              "      <td>6</td>\n",
              "      <td>CH</td>\n",
              "      <td>605135</td>\n",
              "      <td>605137</td>\n",
              "      <td>543510</td>\n",
              "      <td>1</td>\n",
              "      <td>8</td>\n",
              "      <td>...</td>\n",
              "      <td>0</td>\n",
              "      <td>0</td>\n",
              "      <td>0</td>\n",
              "      <td>0</td>\n",
              "      <td>1</td>\n",
              "      <td>1</td>\n",
              "      <td>0</td>\n",
              "      <td>0</td>\n",
              "      <td>0</td>\n",
              "      <td>0</td>\n",
              "    </tr>\n",
              "    <tr>\n",
              "      <th>1</th>\n",
              "      <td>662588</td>\n",
              "      <td>4/9/22</td>\n",
              "      <td>51</td>\n",
              "      <td>5</td>\n",
              "      <td>FC</td>\n",
              "      <td>605135</td>\n",
              "      <td>605137</td>\n",
              "      <td>543510</td>\n",
              "      <td>0</td>\n",
              "      <td>11</td>\n",
              "      <td>...</td>\n",
              "      <td>0</td>\n",
              "      <td>1</td>\n",
              "      <td>0</td>\n",
              "      <td>0</td>\n",
              "      <td>0</td>\n",
              "      <td>1</td>\n",
              "      <td>0</td>\n",
              "      <td>0</td>\n",
              "      <td>0</td>\n",
              "      <td>0</td>\n",
              "    </tr>\n",
              "    <tr>\n",
              "      <th>2</th>\n",
              "      <td>662588</td>\n",
              "      <td>4/9/22</td>\n",
              "      <td>51</td>\n",
              "      <td>1</td>\n",
              "      <td>SL</td>\n",
              "      <td>605135</td>\n",
              "      <td>605137</td>\n",
              "      <td>543510</td>\n",
              "      <td>0</td>\n",
              "      <td>14</td>\n",
              "      <td>...</td>\n",
              "      <td>0</td>\n",
              "      <td>1</td>\n",
              "      <td>0</td>\n",
              "      <td>0</td>\n",
              "      <td>0</td>\n",
              "      <td>1</td>\n",
              "      <td>0</td>\n",
              "      <td>0</td>\n",
              "      <td>0</td>\n",
              "      <td>0</td>\n",
              "    </tr>\n",
              "    <tr>\n",
              "      <th>3</th>\n",
              "      <td>662123</td>\n",
              "      <td>4/9/22</td>\n",
              "      <td>33</td>\n",
              "      <td>5</td>\n",
              "      <td>FF</td>\n",
              "      <td>607074</td>\n",
              "      <td>643265</td>\n",
              "      <td>663698</td>\n",
              "      <td>0</td>\n",
              "      <td>11</td>\n",
              "      <td>...</td>\n",
              "      <td>1</td>\n",
              "      <td>1</td>\n",
              "      <td>0</td>\n",
              "      <td>0</td>\n",
              "      <td>0</td>\n",
              "      <td>1</td>\n",
              "      <td>0</td>\n",
              "      <td>0</td>\n",
              "      <td>0</td>\n",
              "      <td>0</td>\n",
              "    </tr>\n",
              "    <tr>\n",
              "      <th>4</th>\n",
              "      <td>663205</td>\n",
              "      <td>4/9/22</td>\n",
              "      <td>37</td>\n",
              "      <td>7</td>\n",
              "      <td>SL</td>\n",
              "      <td>605540</td>\n",
              "      <td>664023</td>\n",
              "      <td>605170</td>\n",
              "      <td>0</td>\n",
              "      <td>14</td>\n",
              "      <td>...</td>\n",
              "      <td>0</td>\n",
              "      <td>1</td>\n",
              "      <td>0</td>\n",
              "      <td>0</td>\n",
              "      <td>0</td>\n",
              "      <td>1</td>\n",
              "      <td>0</td>\n",
              "      <td>0</td>\n",
              "      <td>0</td>\n",
              "      <td>0</td>\n",
              "    </tr>\n",
              "  </tbody>\n",
              "</table>\n",
              "<p>5 rows × 28 columns</p>\n",
              "</div>"
            ],
            "text/plain": [
              "   game_id game_date  at_bat_number  pitch_number pitch_type  pitcher_id  \\\n",
              "0   662588    4/9/22             51             6         CH      605135   \n",
              "1   662588    4/9/22             51             5         FC      605135   \n",
              "2   662588    4/9/22             51             1         SL      605135   \n",
              "3   662123    4/9/22             33             5         FF      607074   \n",
              "4   663205    4/9/22             37             7         SL      605540   \n",
              "\n",
              "   batter_id  catcher_id  is_strike  zone  ...  pitches_lefty  \\\n",
              "0     605137      543510          1     8  ...              0   \n",
              "1     605137      543510          0    11  ...              0   \n",
              "2     605137      543510          0    14  ...              0   \n",
              "3     643265      663698          0    11  ...              1   \n",
              "4     664023      605170          0    14  ...              0   \n",
              "\n",
              "   ball_called_ball  strike_called_ball  ball_called_strike  \\\n",
              "0                 0                   0                   0   \n",
              "1                 1                   0                   0   \n",
              "2                 1                   0                   0   \n",
              "3                 1                   0                   0   \n",
              "4                 1                   0                   0   \n",
              "\n",
              "   strike_called_strike  correct_call p_lefty_correct_call  \\\n",
              "0                     1             1                    0   \n",
              "1                     0             1                    0   \n",
              "2                     0             1                    0   \n",
              "3                     0             1                    0   \n",
              "4                     0             1                    0   \n",
              "\n",
              "   p_righty_correct_call  b_righty_correct_call  b_lefty_correct_call  \n",
              "0                      0                      0                     0  \n",
              "1                      0                      0                     0  \n",
              "2                      0                      0                     0  \n",
              "3                      0                      0                     0  \n",
              "4                      0                      0                     0  \n",
              "\n",
              "[5 rows x 28 columns]"
            ]
          },
          "execution_count": 300,
          "metadata": {},
          "output_type": "execute_result"
        }
      ],
      "source": [
        "df1['p_lefty_correct_call'] = 0\n",
        "df1['p_righty_correct_call'] = 0\n",
        "df1['b_righty_correct_call'] = 0\n",
        "df1['b_lefty_correct_call'] = 0\n",
        "df1.head()"
      ]
    },
    {
      "cell_type": "code",
      "execution_count": 301,
      "metadata": {
        "colab": {
          "base_uri": "https://localhost:8080/",
          "height": 256
        },
        "id": "M2F1xB7OEjo8",
        "outputId": "662a31ab-616d-4a0d-c8ad-153395dc6a41"
      },
      "outputs": [
        {
          "data": {
            "text/html": [
              "<div>\n",
              "<style scoped>\n",
              "    .dataframe tbody tr th:only-of-type {\n",
              "        vertical-align: middle;\n",
              "    }\n",
              "\n",
              "    .dataframe tbody tr th {\n",
              "        vertical-align: top;\n",
              "    }\n",
              "\n",
              "    .dataframe thead th {\n",
              "        text-align: right;\n",
              "    }\n",
              "</style>\n",
              "<table border=\"1\" class=\"dataframe\">\n",
              "  <thead>\n",
              "    <tr style=\"text-align: right;\">\n",
              "      <th></th>\n",
              "      <th>game_id</th>\n",
              "      <th>game_date</th>\n",
              "      <th>at_bat_number</th>\n",
              "      <th>pitch_number</th>\n",
              "      <th>pitch_type</th>\n",
              "      <th>pitcher_id</th>\n",
              "      <th>batter_id</th>\n",
              "      <th>catcher_id</th>\n",
              "      <th>is_strike</th>\n",
              "      <th>zone</th>\n",
              "      <th>...</th>\n",
              "      <th>pitches_lefty</th>\n",
              "      <th>ball_called_ball</th>\n",
              "      <th>strike_called_ball</th>\n",
              "      <th>ball_called_strike</th>\n",
              "      <th>strike_called_strike</th>\n",
              "      <th>correct_call</th>\n",
              "      <th>p_lefty_correct_call</th>\n",
              "      <th>p_righty_correct_call</th>\n",
              "      <th>b_righty_correct_call</th>\n",
              "      <th>b_lefty_correct_call</th>\n",
              "    </tr>\n",
              "  </thead>\n",
              "  <tbody>\n",
              "    <tr>\n",
              "      <th>0</th>\n",
              "      <td>662588</td>\n",
              "      <td>4/9/22</td>\n",
              "      <td>51</td>\n",
              "      <td>6</td>\n",
              "      <td>CH</td>\n",
              "      <td>605135</td>\n",
              "      <td>605137</td>\n",
              "      <td>543510</td>\n",
              "      <td>1</td>\n",
              "      <td>8</td>\n",
              "      <td>...</td>\n",
              "      <td>0</td>\n",
              "      <td>0</td>\n",
              "      <td>0</td>\n",
              "      <td>0</td>\n",
              "      <td>1</td>\n",
              "      <td>1</td>\n",
              "      <td>0</td>\n",
              "      <td>1</td>\n",
              "      <td>0</td>\n",
              "      <td>1</td>\n",
              "    </tr>\n",
              "    <tr>\n",
              "      <th>1</th>\n",
              "      <td>662588</td>\n",
              "      <td>4/9/22</td>\n",
              "      <td>51</td>\n",
              "      <td>5</td>\n",
              "      <td>FC</td>\n",
              "      <td>605135</td>\n",
              "      <td>605137</td>\n",
              "      <td>543510</td>\n",
              "      <td>0</td>\n",
              "      <td>11</td>\n",
              "      <td>...</td>\n",
              "      <td>0</td>\n",
              "      <td>1</td>\n",
              "      <td>0</td>\n",
              "      <td>0</td>\n",
              "      <td>0</td>\n",
              "      <td>1</td>\n",
              "      <td>0</td>\n",
              "      <td>1</td>\n",
              "      <td>0</td>\n",
              "      <td>1</td>\n",
              "    </tr>\n",
              "    <tr>\n",
              "      <th>2</th>\n",
              "      <td>662588</td>\n",
              "      <td>4/9/22</td>\n",
              "      <td>51</td>\n",
              "      <td>1</td>\n",
              "      <td>SL</td>\n",
              "      <td>605135</td>\n",
              "      <td>605137</td>\n",
              "      <td>543510</td>\n",
              "      <td>0</td>\n",
              "      <td>14</td>\n",
              "      <td>...</td>\n",
              "      <td>0</td>\n",
              "      <td>1</td>\n",
              "      <td>0</td>\n",
              "      <td>0</td>\n",
              "      <td>0</td>\n",
              "      <td>1</td>\n",
              "      <td>0</td>\n",
              "      <td>1</td>\n",
              "      <td>0</td>\n",
              "      <td>1</td>\n",
              "    </tr>\n",
              "    <tr>\n",
              "      <th>3</th>\n",
              "      <td>662123</td>\n",
              "      <td>4/9/22</td>\n",
              "      <td>33</td>\n",
              "      <td>5</td>\n",
              "      <td>FF</td>\n",
              "      <td>607074</td>\n",
              "      <td>643265</td>\n",
              "      <td>663698</td>\n",
              "      <td>0</td>\n",
              "      <td>11</td>\n",
              "      <td>...</td>\n",
              "      <td>1</td>\n",
              "      <td>1</td>\n",
              "      <td>0</td>\n",
              "      <td>0</td>\n",
              "      <td>0</td>\n",
              "      <td>1</td>\n",
              "      <td>1</td>\n",
              "      <td>0</td>\n",
              "      <td>1</td>\n",
              "      <td>0</td>\n",
              "    </tr>\n",
              "    <tr>\n",
              "      <th>4</th>\n",
              "      <td>663205</td>\n",
              "      <td>4/9/22</td>\n",
              "      <td>37</td>\n",
              "      <td>7</td>\n",
              "      <td>SL</td>\n",
              "      <td>605540</td>\n",
              "      <td>664023</td>\n",
              "      <td>605170</td>\n",
              "      <td>0</td>\n",
              "      <td>14</td>\n",
              "      <td>...</td>\n",
              "      <td>0</td>\n",
              "      <td>1</td>\n",
              "      <td>0</td>\n",
              "      <td>0</td>\n",
              "      <td>0</td>\n",
              "      <td>1</td>\n",
              "      <td>0</td>\n",
              "      <td>1</td>\n",
              "      <td>0</td>\n",
              "      <td>1</td>\n",
              "    </tr>\n",
              "  </tbody>\n",
              "</table>\n",
              "<p>5 rows × 28 columns</p>\n",
              "</div>"
            ],
            "text/plain": [
              "   game_id game_date  at_bat_number  pitch_number pitch_type  pitcher_id  \\\n",
              "0   662588    4/9/22             51             6         CH      605135   \n",
              "1   662588    4/9/22             51             5         FC      605135   \n",
              "2   662588    4/9/22             51             1         SL      605135   \n",
              "3   662123    4/9/22             33             5         FF      607074   \n",
              "4   663205    4/9/22             37             7         SL      605540   \n",
              "\n",
              "   batter_id  catcher_id  is_strike  zone  ...  pitches_lefty  \\\n",
              "0     605137      543510          1     8  ...              0   \n",
              "1     605137      543510          0    11  ...              0   \n",
              "2     605137      543510          0    14  ...              0   \n",
              "3     643265      663698          0    11  ...              1   \n",
              "4     664023      605170          0    14  ...              0   \n",
              "\n",
              "   ball_called_ball  strike_called_ball  ball_called_strike  \\\n",
              "0                 0                   0                   0   \n",
              "1                 1                   0                   0   \n",
              "2                 1                   0                   0   \n",
              "3                 1                   0                   0   \n",
              "4                 1                   0                   0   \n",
              "\n",
              "   strike_called_strike  correct_call p_lefty_correct_call  \\\n",
              "0                     1             1                    0   \n",
              "1                     0             1                    0   \n",
              "2                     0             1                    0   \n",
              "3                     0             1                    1   \n",
              "4                     0             1                    0   \n",
              "\n",
              "   p_righty_correct_call  b_righty_correct_call  b_lefty_correct_call  \n",
              "0                      1                      0                     1  \n",
              "1                      1                      0                     1  \n",
              "2                      1                      0                     1  \n",
              "3                      0                      1                     0  \n",
              "4                      1                      0                     1  \n",
              "\n",
              "[5 rows x 28 columns]"
            ]
          },
          "execution_count": 301,
          "metadata": {},
          "output_type": "execute_result"
        }
      ],
      "source": [
        "df1.loc[(df1[\"pitches_lefty\"] == 1) & (df1[\"correct_call\"] == 1), \"p_lefty_correct_call\"] = 1\n",
        "df1.loc[(df1[\"pitches_lefty\"] == 0) & (df1[\"correct_call\"] == 1), \"p_righty_correct_call\"] = 1\n",
        "df1.loc[(df1[\"bats_lefty\"] == 1) & (df1[\"correct_call\"] == 1), \"b_lefty_correct_call\"] = 1\n",
        "df1.loc[(df1[\"bats_lefty\"] == 0) & (df1[\"correct_call\"] == 1), \"b_righty_correct_call\"] = 1\n",
        "df1.head()\n"
      ]
    },
    {
      "cell_type": "code",
      "execution_count": 302,
      "metadata": {
        "colab": {
          "base_uri": "https://localhost:8080/"
        },
        "id": "eyaSMmXrIQnk",
        "outputId": "ad1f39ba-c40a-4900-e23f-afcc5b1a9fda"
      },
      "outputs": [
        {
          "name": "stdout",
          "output_type": "stream",
          "text": [
            "Number of left handed pitches:  95747\n",
            "Number of right handed pitches:  255117\n",
            "Correct call percentage of left handed pitches:  92.01019353086781\n",
            "Correct call percentage of right handed pitches:  92.16633936585959\n"
          ]
        }
      ],
      "source": [
        "x = df1[\"p_lefty_correct_call\"].sum()\n",
        "y = df1['pitches_lefty'].sum()\n",
        "p_lefty_correct_call_percent = (x/y) * 100\n",
        "\n",
        "m = df1[\"p_righty_correct_call\"].sum()\n",
        "n = (df1['pitches_lefty'] == 0).sum()\n",
        "p_righty_correct_call_percent = (m/n) * 100\n",
        "\n",
        "print('Number of left handed pitches: ', y)\n",
        "print('Number of right handed pitches: ', n)\n",
        "print('Correct call percentage of left handed pitches: ', p_lefty_correct_call_percent)\n",
        "print('Correct call percentage of right handed pitches: ', p_righty_correct_call_percent)"
      ]
    },
    {
      "cell_type": "markdown",
      "metadata": {
        "id": "FWJl5aTxKMFr"
      },
      "source": [
        "expected a lot more pitches from right handed pitchers if this is an all encompassing dataset of pitches thrown - analysis stays true with this "
      ]
    },
    {
      "cell_type": "code",
      "execution_count": 303,
      "metadata": {
        "colab": {
          "base_uri": "https://localhost:8080/"
        },
        "id": "9EXu-mKaKXfO",
        "outputId": "c349dfa5-46b4-4120-d16c-ba1d6e93facf"
      },
      "outputs": [
        {
          "name": "stdout",
          "output_type": "stream",
          "text": [
            "Number of pitches to left handed batters:  143043\n",
            "Number of pitches to right handed batters:  207821\n",
            "Correct call percentage to left handed batters:  92.2296092783289\n",
            "Correct call percentage to right handed batters:  92.05085145389542\n"
          ]
        }
      ],
      "source": [
        "x = df1[\"b_lefty_correct_call\"].sum()\n",
        "y = df1['bats_lefty'].sum()\n",
        "b_lefty_correct_call_percent = (x/y) * 100\n",
        "\n",
        "m = df1[\"b_righty_correct_call\"].sum()\n",
        "n = (df1['bats_lefty'] == 0).sum()\n",
        "b_righty_correct_call_percent = (m/n) * 100\n",
        "\n",
        "print('Number of pitches to left handed batters: ', y)\n",
        "print('Number of pitches to right handed batters: ', n)\n",
        "print('Correct call percentage to left handed batters: ', b_lefty_correct_call_percent)\n",
        "print('Correct call percentage to right handed batters: ', b_righty_correct_call_percent)"
      ]
    },
    {
      "cell_type": "markdown",
      "metadata": {
        "id": "jUuEzATfLAoQ"
      },
      "source": [
        "### More Analysis\n",
        "\n",
        "Pitches Left to Bats Left\n",
        "\n",
        "Pitches Left to Bats Right\n",
        "\n",
        "Pitches Right to Bats Right\n",
        "\n",
        "Pitches Right to Bats Left"
      ]
    },
    {
      "cell_type": "code",
      "execution_count": 304,
      "metadata": {
        "id": "GW38C4O_K6Ic"
      },
      "outputs": [],
      "source": [
        "df1['pl_bl_cc'] = 0\n",
        "df1['pl_br_cc'] = 0\n",
        "df1['pr_br_cc'] = 0\n",
        "df1['pr_bl_cc'] = 0"
      ]
    },
    {
      "cell_type": "code",
      "execution_count": 305,
      "metadata": {
        "id": "ITe42GQALlKR"
      },
      "outputs": [],
      "source": [
        "df1.loc[(df1[\"pitches_lefty\"] == 1) & (df1[\"bats_lefty\"] == 1) & (df1['correct_call'] == 1), \"pl_bl_cc\"] = 1\n",
        "df1.loc[(df1[\"pitches_lefty\"] == 1) & (df1[\"bats_lefty\"] == 0) & (df1['correct_call'] == 1), \"pl_br_cc\"] = 1\n",
        "df1.loc[(df1[\"pitches_lefty\"] == 0) & (df1[\"bats_lefty\"] == 0) & (df1['correct_call'] == 1), \"pr_br_cc\"] = 1\n",
        "df1.loc[(df1[\"pitches_lefty\"] == 0) & (df1[\"bats_lefty\"] == 1) & (df1['correct_call'] == 1), \"pr_bl_cc\"] = 1\n"
      ]
    },
    {
      "cell_type": "code",
      "execution_count": 306,
      "metadata": {
        "colab": {
          "base_uri": "https://localhost:8080/"
        },
        "id": "uQCKSn6kMKmO",
        "outputId": "fe699927-6b12-430a-96a8-7af7e6e56b98"
      },
      "outputs": [
        {
          "name": "stdout",
          "output_type": "stream",
          "text": [
            "Correct call percentage for pitches left and bats left:  92.23972037858854\n",
            "Correct call percentage for pitches left and bats right:  91.92703887086677\n",
            "Correct call percentage for pitches right and bats left:  92.22741962918863\n",
            "Correct call percentage for pitches right and bats right:  92.11412201807514\n"
          ]
        }
      ],
      "source": [
        "x = df1[\"pl_bl_cc\"].sum()\n",
        "y = ((df1['pitches_lefty'] == 1) & (df1['bats_lefty'] == 1) ).sum()\n",
        "pl_bl_cc_percent = (x/y) * 100\n",
        "print(\"Correct call percentage for pitches left and bats left: \", pl_bl_cc_percent)\n",
        "\n",
        "m = df1[\"pl_br_cc\"].sum()\n",
        "n = ((df1['pitches_lefty'] == 1) & (df1['bats_lefty'] == 0 ) ).sum()\n",
        "pl_br_cc_percent = (m/n) * 100\n",
        "print(\"Correct call percentage for pitches left and bats right: \",pl_br_cc_percent)\n",
        "\n",
        "a = df1[\"pr_bl_cc\"].sum()\n",
        "b = ((df1['pitches_lefty'] == 0 ) & (df1['bats_lefty'] == 1) ).sum()\n",
        "pr_bl_cc_percent = (a/b) * 100\n",
        "print(\"Correct call percentage for pitches right and bats left: \",pr_bl_cc_percent)\n",
        "\n",
        "c = df1[\"pr_br_cc\"].sum()\n",
        "d = ((df1['pitches_lefty'] == 0) & (df1['bats_lefty'] == 0) ).sum()\n",
        "pr_br_cc_percent = (c/d) * 100\n",
        "print(\"Correct call percentage for pitches right and bats right: \",pr_br_cc_percent)\n"
      ]
    },
    {
      "cell_type": "code",
      "execution_count": 307,
      "metadata": {},
      "outputs": [
        {
          "name": "stdout",
          "output_type": "stream",
          "text": [
            "Overall correct call percentage:  92.12372885220485\n"
          ]
        }
      ],
      "source": [
        "cc_perc = df1['correct_call'].sum() / (len(df1['correct_call'])) * 100\n",
        "print(\"Overall correct call percentage: \", cc_perc)"
      ]
    },
    {
      "cell_type": "code",
      "execution_count": 308,
      "metadata": {},
      "outputs": [
        {
          "data": {
            "image/png": "[encoded data removed]",
            "text/plain": [
              "<Figure size 720x432 with 1 Axes>"
            ]
          },
          "metadata": {
            "needs_background": "light"
          },
          "output_type": "display_data"
        }
      ],
      "source": [
        "import matplotlib.pyplot as plt\n",
        "\n",
        "categories = ['Pitches Left, Bats Left', 'Pitches Left, Bats Right', 'Pitches Right, Bats Left', 'Pitches Right, Bats Right']\n",
        "\n",
        "percentages = [pl_bl_cc_percent, pl_br_cc_percent, pr_bl_cc_percent, pr_br_cc_percent]\n",
        "\n",
        "plt.figure(figsize=(10, 6))\n",
        "\n",
        "plt.bar(categories, percentages, color=['teal', 'pink', 'lightblue', 'salmon'])\n",
        "\n",
        "plt.axhline(y=cc_perc, color='r', linestyle='--', label=f'Overall Correct Call Percentage: {cc_perc: .2f}%')\n",
        "\n",
        "plt.xlabel('Category')\n",
        "plt.ylabel('Correct Call Percentage')\n",
        "plt.title('Correct Call Percentage by Pitch and Bat Orientation')\n",
        "plt.xticks(rotation=45)  \n",
        "\n",
        "\n",
        "for i, percentage in enumerate(percentages):\n",
        "    plt.text(i, percentage, f'{percentage:.2f}%', ha='center', va='bottom')\n",
        "\n",
        "plt.legend()\n",
        "plt.tight_layout()  \n",
        "plt.show()"
      ]
    },
    {
      "cell_type": "markdown",
      "metadata": {
        "id": "WD9X0q8cQjHY"
      },
      "source": [
        "Handedness of a pitcher or batter, or a combination of the two has no impact on the umpires ability to make a correct call. Umpires are however, more likely to call a strike a ball when a batter does not swing as compared to determining a ball a strike (10% vs 6%)\n",
        "\n",
        "One more consideration however, is whether an umpires ability to determine a correct call is impacted by pitch type. Or a combination of pitch type + handedness of either batter or pitcher.\n",
        "\n"
      ]
    },
    {
      "cell_type": "markdown",
      "metadata": {
        "id": "q9qzKB04SkkY"
      },
      "source": [
        "Null Hypothesis (H0): There is no association between the handedness of the pitcher/batter and the correctness of the umpire's calls.\n",
        "\n",
        "Alternative Hypothesis (H1): There is an association between the handedness of the pitcher/batter and the correctness of the umpire's calls.\n"
      ]
    },
    {
      "cell_type": "code",
      "execution_count": 309,
      "metadata": {},
      "outputs": [],
      "source": [
        "cc_perc /= 100 # need cc percentage as a decimal for a/b testing"
      ]
    },
    {
      "cell_type": "code",
      "execution_count": 310,
      "metadata": {
        "colab": {
          "base_uri": "https://localhost:8080/"
        },
        "id": "7RG4FjvBcvUx",
        "outputId": "f80c74fe-7c6c-4c55-d16d-6905fb0adb5d"
      },
      "outputs": [
        {
          "name": "stdout",
          "output_type": "stream",
          "text": [
            "For left handed pitchers to left handed batters: \n",
            "Z-Score:  -0.6637731239089499 , P-Value:  0.5068355296545799\n",
            "Fail to reject H0\n"
          ]
        }
      ],
      "source": [
        "#lhp > lhb\n",
        "from scipy.stats import norm\n",
        "\n",
        "p1 = cc_perc  # Proportion of correct calls for all pitches\n",
        "p2 =  pl_bl_cc_percent / 100\n",
        "N1 = len(df1)  # Total number of pitches for all situations\n",
        "N2 = y\n",
        "\n",
        "# Calculate pooled proportion\n",
        "P_pooled = (p1 * N1 + p2 * N2) / (N1 + N2)\n",
        "\n",
        "# Calculate the standard error\n",
        "SE = np.sqrt(P_pooled * (1 - P_pooled) * (1/N1 + 1/N2))\n",
        "\n",
        "# Calculate Z-statistic\n",
        "Z = (p1 - p2) / SE\n",
        "\n",
        "# Calculate the p-value\n",
        "p_value = 2 * (1 - norm.cdf(abs(Z)))  # Two-tailed test\n",
        "\n",
        "print(\"For left handed pitchers to left handed batters: \")\n",
        "\n",
        "print(\"Z-Score: \", Z, \", P-Value: \", p_value)\n",
        "\n",
        "print('Fail to reject H0')\n"
      ]
    },
    {
      "cell_type": "code",
      "execution_count": 311,
      "metadata": {
        "colab": {
          "base_uri": "https://localhost:8080/"
        },
        "id": "9guT19QMgpfl",
        "outputId": "6a4e9ddf-a57a-4a98-f8a5-5fba2696963f"
      },
      "outputs": [
        {
          "name": "stdout",
          "output_type": "stream",
          "text": [
            "For left handed pitchers to right handed batters: \n",
            "Z-Score:  1.763561925826551 , P-Value:  0.07780576270340922\n",
            "Fail to reject H0\n"
          ]
        }
      ],
      "source": [
        "#lhp > rhb\n",
        "from scipy.stats import norm\n",
        "\n",
        "p1 = cc_perc  # Proportion of correct calls for all pitches\n",
        "p2 =  pl_br_cc_percent / 100\n",
        "N1 = len(df1)  # Total number of pitches for all situations\n",
        "N2 = n\n",
        "\n",
        "# Calculate pooled proportion\n",
        "P_pooled = (p1 * N1 + p2 * N2) / (N1 + N2)\n",
        "\n",
        "# Calculate the standard error\n",
        "SE = np.sqrt(P_pooled * (1 - P_pooled) * (1/N1 + 1/N2))\n",
        "\n",
        "# Calculate Z-statistic\n",
        "Z = (p1 - p2) / SE\n",
        "\n",
        "# Calculate the p-value\n",
        "p_value = 2 * (1 - norm.cdf(abs(Z)))  # Two-tailed test\n",
        "\n",
        "print(\"For left handed pitchers to right handed batters: \")\n",
        "\n",
        "print(\"Z-Score: \", Z, \", P-Value: \", p_value)\n",
        "\n",
        "print('Fail to reject H0')"
      ]
    },
    {
      "cell_type": "code",
      "execution_count": 312,
      "metadata": {
        "colab": {
          "base_uri": "https://localhost:8080/"
        },
        "id": "3IROuuDnhCgd",
        "outputId": "15557fee-36bb-4117-9578-86fb0e8b4d3d"
      },
      "outputs": [
        {
          "name": "stdout",
          "output_type": "stream",
          "text": [
            "For right handed pitchers to left handed batters: \n",
            "Z-Score:  -1.1440861617684432 , P-Value:  0.25258790602574077\n",
            "Fail to reject H0\n"
          ]
        }
      ],
      "source": [
        "#rhp > lhb\n",
        "from scipy.stats import norm\n",
        "\n",
        "p1 = cc_perc  # Proportion of correct calls for all pitches\n",
        "p2 =  pr_bl_cc_percent / 100\n",
        "N1 = len(df1)  # Total number of pitches for all situations\n",
        "N2 = b\n",
        "\n",
        "# Calculate pooled proportion\n",
        "P_pooled = (p1 * N1 + p2 * N2) / (N1 + N2)\n",
        "\n",
        "# Calculate the standard error\n",
        "SE = np.sqrt(P_pooled * (1 - P_pooled) * (1/N1 + 1/N2))\n",
        "\n",
        "# Calculate Z-statistic\n",
        "Z = (p1 - p2) / SE\n",
        "\n",
        "# Calculate the p-value\n",
        "p_value = 2 * (1 - norm.cdf(abs(Z)))  # Two-tailed test\n",
        "\n",
        "print(\"For right handed pitchers to left handed batters: \")\n",
        "\n",
        "print(\"Z-Score: \", Z, \", P-Value: \", p_value)\n",
        "\n",
        "print('Fail to reject H0')"
      ]
    },
    {
      "cell_type": "code",
      "execution_count": 313,
      "metadata": {
        "colab": {
          "base_uri": "https://localhost:8080/"
        },
        "id": "Vn2em8WwhK5s",
        "outputId": "a9d2f0e0-30fa-44cd-ba4d-41ae97e92d63"
      },
      "outputs": [
        {
          "name": "stdout",
          "output_type": "stream",
          "text": [
            "For right handed pitchers to right handed batters: \n",
            "Z-Score:  0.11208743192113302 , P-Value:  0.9107540825000895\n",
            "Fail to reject H0\n"
          ]
        }
      ],
      "source": [
        "#rhp > rhb\n",
        "from scipy.stats import norm\n",
        "\n",
        "p1 = cc_perc  # Proportion of correct calls for all pitches\n",
        "p2 =  pr_br_cc_percent / 100\n",
        "N1 = len(df1)  # Total number of pitches for all situations\n",
        "N2 = d\n",
        "\n",
        "# Calculate pooled proportion\n",
        "P_pooled = (p1 * N1 + p2 * N2) / (N1 + N2)\n",
        "\n",
        "# Calculate the standard error\n",
        "SE = np.sqrt(P_pooled * (1 - P_pooled) * (1/N1 + 1/N2))\n",
        "\n",
        "# Calculate Z-statistic\n",
        "Z = (p1 - p2) / SE\n",
        "\n",
        "# Calculate the p-value\n",
        "p_value = 2 * (1 - norm.cdf(abs(Z)))  # Two-tailed test\n",
        "\n",
        "print(\"For right handed pitchers to right handed batters: \")\n",
        "\n",
        "print(\"Z-Score: \", Z, \", P-Value: \", p_value)\n",
        "\n",
        "print('Fail to reject H0')"
      ]
    },
    {
      "cell_type": "markdown",
      "metadata": {},
      "source": [
        "Our a/b testing tells us that we cannot reject the null hypothesis (regardless of pitcher / batter handedness) that there is no association between handedness and correct call percentage"
      ]
    },
    {
      "cell_type": "markdown",
      "metadata": {
        "id": "d0hmB00RhrrX"
      },
      "source": [
        "Now we will examine pitch type on the ability of the umpire to make the correct determination\n",
        "\n",
        "- CH: changeup\n",
        "- CS, CU: curveball\n",
        "- EP: eephus\n",
        "- FA, FF: four-seam fastball\n",
        "- FC: cutter\n",
        "- FS: splitter\n",
        "- KC: knuckle-curve\n",
        "- KN: knuckle-ball\n",
        "- SI: sinker\n",
        "- SL: slider\n",
        "\n",
        "In order to save our souls, we will bucket the pitchtypes into three different categories: Fast Balls, Breaking Balls and Offspeed\n",
        "\n",
        "FB\n",
        "- FA, FF, SI\n",
        "\n",
        "BB\n",
        "- SL, FC, CU + CS, KC,\n",
        "\n",
        "OS\n",
        "-  CH, FS, KN, EP"
      ]
    },
    {
      "cell_type": "code",
      "execution_count": 314,
      "metadata": {
        "id": "QJxTiB3chaQM"
      },
      "outputs": [],
      "source": [
        "df1['FB'] = 0\n",
        "df1['BB'] = 0\n",
        "df1['OS'] = 0"
      ]
    },
    {
      "cell_type": "code",
      "execution_count": 315,
      "metadata": {
        "id": "7-92zoR2nYGp"
      },
      "outputs": [],
      "source": [
        "df1.loc[df1[\"pitch_type\"].isin([ 'FA', 'FF', 'SI']), \"FB\"] = 1\n",
        "df1.loc[df1[\"pitch_type\"].isin([ 'SL', 'FC', 'CU', 'CS', 'KC']), \"BB\"] = 1\n",
        "df1.loc[df1[\"pitch_type\"].isin([ 'CH', 'FS', 'KN', 'EP']), \"OS\"] = 1"
      ]
    },
    {
      "cell_type": "code",
      "execution_count": 316,
      "metadata": {
        "id": "jq_3Q_VpqzBE"
      },
      "outputs": [],
      "source": [
        "df1[\"FB_correct_call\"] = 0\n",
        "df1[\"BB_correct_call\"] = 0\n",
        "df1[\"OS_correct_call\"] = 0\n",
        "\n",
        "\n",
        "df1.loc[(df1[\"FB\"] == 1) & (df1[\"correct_call\"] == 1), \"FB_correct_call\"] = 1\n",
        "df1.loc[(df1[\"BB\"] == 1) & (df1[\"correct_call\"] == 1), \"BB_correct_call\"] = 1\n",
        "df1.loc[(df1[\"OS\"] == 1) & (df1[\"correct_call\"] == 1), \"OS_correct_call\"] = 1"
      ]
    },
    {
      "cell_type": "code",
      "execution_count": 317,
      "metadata": {
        "colab": {
          "base_uri": "https://localhost:8080/"
        },
        "id": "MQRUFpSDo873",
        "outputId": "a638d364-a533-4e2b-c5f0-32d92ee69f4e"
      },
      "outputs": [
        {
          "name": "stdout",
          "output_type": "stream",
          "text": [
            "Fastball correct call percentage:  91.29555451935664\n",
            "Breaking ball correct call percentage:  92.57573355677846\n",
            "Off speed correct call percentage:  94.29094870271341\n"
          ]
        }
      ],
      "source": [
        "# if a pitch is a fb, what is the liklihood that it was called correctly\n",
        "\n",
        "#sum of fastballs called correctly / total sum of fastballs\n",
        "\n",
        "fb_cc_perc = df1[\"FB_correct_call\"].sum() / df1[\"FB\"].sum() * 100\n",
        "bb_cc_perc = df1[\"BB_correct_call\"].sum() / df1[\"BB\"].sum() * 100\n",
        "os_cc_perc = df1[\"OS_correct_call\"].sum() / df1[\"OS\"].sum() * 100\n",
        "\n",
        "print(\"Fastball correct call percentage: \", fb_cc_perc)\n",
        "print(\"Breaking ball correct call percentage: \",bb_cc_perc)\n",
        "print(\"Off speed correct call percentage: \",os_cc_perc)"
      ]
    },
    {
      "cell_type": "code",
      "execution_count": 318,
      "metadata": {
        "colab": {
          "base_uri": "https://localhost:8080/"
        },
        "id": "D0gVm-Xzrt1X",
        "outputId": "61414756-00ae-4fe3-acf6-91dac98a913c"
      },
      "outputs": [
        {
          "name": "stdout",
          "output_type": "stream",
          "text": [
            "Z-score:  10.398961388134925 P-value:  0.0\n",
            "Total Pitches overall:  350864 , Total Fastballs:  178001\n",
            "Reject H0\n"
          ]
        }
      ],
      "source": [
        "#fb\n",
        "p1 = cc_perc  # Proportion of correct calls for all pitches\n",
        "p2 =  fb_cc_perc / 100\n",
        "N1 = len(df1)  # Total number of pitches for all situations\n",
        "N2 = df1[\"FB\"].sum()\n",
        "\n",
        "# Calculate pooled proportion\n",
        "P_pooled = (p1 * N1 + p2 * N2) / (N1 + N2)\n",
        "\n",
        "# Calculate the standard error\n",
        "SE = np.sqrt(P_pooled * (1 - P_pooled) * (1/N1 + 1/N2))\n",
        "\n",
        "# Calculate Z-statistic\n",
        "Z = (p1 - p2) / SE\n",
        "\n",
        "# Calculate the p-value\n",
        "p_value = 2 * (1 - norm.cdf(abs(Z)))  # Two-tailed test\n",
        "\n",
        "print(\"Z-score: \", Z,\"P-value: \", p_value)\n",
        "print(\"Total Pitches overall: \", N1,\", Total Fastballs: \", N2)\n",
        "\n",
        "print('Reject H0')"
      ]
    },
    {
      "cell_type": "code",
      "execution_count": 319,
      "metadata": {
        "colab": {
          "base_uri": "https://localhost:8080/"
        },
        "id": "BNQO2Bh6sFpK",
        "outputId": "97c81011-0f50-4677-dbc2-d735dda5adc3"
      },
      "outputs": [
        {
          "name": "stdout",
          "output_type": "stream",
          "text": [
            "Z-score:  -5.241472994837807 P-value:  1.5929979380047143e-07\n",
            "Total Pitches overall:  350864 , Total Breaking Balls:  132471\n",
            "Reject H0\n"
          ]
        }
      ],
      "source": [
        "p1 = cc_perc  # Proportion of correct calls for all pitches\n",
        "p2 =  bb_cc_perc / 100\n",
        "N1 = len(df1)  # Total number of pitches for all situations\n",
        "N2 = df1[\"BB\"].sum()\n",
        "\n",
        "# Calculate pooled proportion\n",
        "P_pooled = (p1 * N1 + p2 * N2) / (N1 + N2)\n",
        "\n",
        "# Calculate the standard error\n",
        "SE = np.sqrt(P_pooled * (1 - P_pooled) * (1/N1 + 1/N2))\n",
        "\n",
        "# Calculate Z-statistic\n",
        "Z = (p1 - p2) / SE\n",
        "\n",
        "# Calculate the p-value\n",
        "p_value = 2 * (1 - norm.cdf(abs(Z)))  # Two-tailed test\n",
        "\n",
        "print(\"Z-score: \", Z,\"P-value: \", p_value)\n",
        "print(\"Total Pitches overall: \", N1,\", Total Breaking Balls: \", N2)\n",
        "\n",
        "print('Reject H0')"
      ]
    },
    {
      "cell_type": "code",
      "execution_count": 320,
      "metadata": {
        "colab": {
          "base_uri": "https://localhost:8080/"
        },
        "id": "zXFmWfj5sJGT",
        "outputId": "ed5dec62-1e9b-46ee-a987-a0795c95d8fc"
      },
      "outputs": [
        {
          "name": "stdout",
          "output_type": "stream",
          "text": [
            "Z-score:  -15.515808568871536 P-value:  0.0\n",
            "Total Pitches overall:  350864 , Total Off speed:  40392\n",
            "Reject H0\n"
          ]
        }
      ],
      "source": [
        "p1 = cc_perc  # Proportion of correct calls for all pitches\n",
        "p2 =  os_cc_perc / 100\n",
        "N1 = len(df1)  # Total number of pitches for all situations\n",
        "N2 = df1[\"OS\"].sum()\n",
        "\n",
        "# Calculate pooled proportion\n",
        "P_pooled = (p1 * N1 + p2 * N2) / (N1 + N2)\n",
        "\n",
        "# Calculate the standard error\n",
        "SE = np.sqrt(P_pooled * (1 - P_pooled) * (1/N1 + 1/N2))\n",
        "\n",
        "# Calculate Z-statistic\n",
        "Z = (p1 - p2) / SE\n",
        "\n",
        "# Calculate the p-value\n",
        "p_value = 2 * (1 - norm.cdf(abs(Z)))  # Two-tailed test\n",
        "\n",
        "print(\"Z-score: \", Z,\"P-value: \", p_value)\n",
        "print(\"Total Pitches overall: \", N1,\", Total Off speed: \", N2)\n",
        "\n",
        "print('Reject H0')"
      ]
    },
    {
      "cell_type": "markdown",
      "metadata": {},
      "source": [
        "After analysis, we reject the null hypothesis and find that the type of pitch is statistically significant in determining correct call percentage for each pitch type."
      ]
    },
    {
      "cell_type": "markdown",
      "metadata": {},
      "source": [
        "##### No buckets for pitch type"
      ]
    },
    {
      "cell_type": "code",
      "execution_count": 321,
      "metadata": {},
      "outputs": [
        {
          "data": {
            "text/html": [
              "<div>\n",
              "<style scoped>\n",
              "    .dataframe tbody tr th:only-of-type {\n",
              "        vertical-align: middle;\n",
              "    }\n",
              "\n",
              "    .dataframe tbody tr th {\n",
              "        vertical-align: top;\n",
              "    }\n",
              "\n",
              "    .dataframe thead th {\n",
              "        text-align: right;\n",
              "    }\n",
              "</style>\n",
              "<table border=\"1\" class=\"dataframe\">\n",
              "  <thead>\n",
              "    <tr style=\"text-align: right;\">\n",
              "      <th></th>\n",
              "      <th>pitch_type</th>\n",
              "      <th>Percentage Correct</th>\n",
              "      <th>Percentage Incorrect</th>\n",
              "    </tr>\n",
              "  </thead>\n",
              "  <tbody>\n",
              "    <tr>\n",
              "      <th>0</th>\n",
              "      <td>CH</td>\n",
              "      <td>94.308717</td>\n",
              "      <td>5.691283</td>\n",
              "    </tr>\n",
              "    <tr>\n",
              "      <th>1</th>\n",
              "      <td>CS</td>\n",
              "      <td>92.307692</td>\n",
              "      <td>7.692308</td>\n",
              "    </tr>\n",
              "    <tr>\n",
              "      <th>2</th>\n",
              "      <td>CU</td>\n",
              "      <td>92.721031</td>\n",
              "      <td>7.278969</td>\n",
              "    </tr>\n",
              "    <tr>\n",
              "      <th>3</th>\n",
              "      <td>EP</td>\n",
              "      <td>87.665198</td>\n",
              "      <td>12.334802</td>\n",
              "    </tr>\n",
              "    <tr>\n",
              "      <th>4</th>\n",
              "      <td>FA</td>\n",
              "      <td>91.330344</td>\n",
              "      <td>8.669656</td>\n",
              "    </tr>\n",
              "    <tr>\n",
              "      <th>5</th>\n",
              "      <td>FC</td>\n",
              "      <td>91.420143</td>\n",
              "      <td>8.579857</td>\n",
              "    </tr>\n",
              "    <tr>\n",
              "      <th>6</th>\n",
              "      <td>FF</td>\n",
              "      <td>91.456158</td>\n",
              "      <td>8.543842</td>\n",
              "    </tr>\n",
              "    <tr>\n",
              "      <th>7</th>\n",
              "      <td>FS</td>\n",
              "      <td>94.507622</td>\n",
              "      <td>5.492378</td>\n",
              "    </tr>\n",
              "    <tr>\n",
              "      <th>8</th>\n",
              "      <td>KC</td>\n",
              "      <td>92.692251</td>\n",
              "      <td>7.307749</td>\n",
              "    </tr>\n",
              "    <tr>\n",
              "      <th>9</th>\n",
              "      <td>KN</td>\n",
              "      <td>91.666667</td>\n",
              "      <td>8.333333</td>\n",
              "    </tr>\n",
              "    <tr>\n",
              "      <th>10</th>\n",
              "      <td>SI</td>\n",
              "      <td>90.971809</td>\n",
              "      <td>9.028191</td>\n",
              "    </tr>\n",
              "    <tr>\n",
              "      <th>11</th>\n",
              "      <td>SL</td>\n",
              "      <td>92.904136</td>\n",
              "      <td>7.095864</td>\n",
              "    </tr>\n",
              "  </tbody>\n",
              "</table>\n",
              "</div>"
            ],
            "text/plain": [
              "   pitch_type  Percentage Correct  Percentage Incorrect\n",
              "0          CH           94.308717              5.691283\n",
              "1          CS           92.307692              7.692308\n",
              "2          CU           92.721031              7.278969\n",
              "3          EP           87.665198             12.334802\n",
              "4          FA           91.330344              8.669656\n",
              "5          FC           91.420143              8.579857\n",
              "6          FF           91.456158              8.543842\n",
              "7          FS           94.507622              5.492378\n",
              "8          KC           92.692251              7.307749\n",
              "9          KN           91.666667              8.333333\n",
              "10         SI           90.971809              9.028191\n",
              "11         SL           92.904136              7.095864"
            ]
          },
          "execution_count": 321,
          "metadata": {},
          "output_type": "execute_result"
        }
      ],
      "source": [
        "counts_by_pitch_type = df1.groupby(['pitch_type', 'correct_call']).size().unstack(fill_value=0)\n",
        "total_calls_by_pitch_type = counts_by_pitch_type.sum(axis=1)\n",
        "correct_calls_by_pitch_type = counts_by_pitch_type.get(1,0)\n",
        "incorrect_calls_by_pitch_type = counts_by_pitch_type.get(0,0)\n",
        "\n",
        "percentage_correct_calls_by_pitch_type = (correct_calls_by_pitch_type / total_calls_by_pitch_type) * 100\n",
        "percentage_incorrect_calls_by_pitch_type = (incorrect_calls_by_pitch_type / total_calls_by_pitch_type) * 100\n",
        "\n",
        "percentages_matrix_by_pitch_type = pd.DataFrame({\n",
        "    'Percentage Correct' : percentage_correct_calls_by_pitch_type, \n",
        "    'Percentage Incorrect' : percentage_incorrect_calls_by_pitch_type\n",
        "}).reset_index()\n",
        "\n",
        "percentages_matrix_by_pitch_type"
      ]
    },
    {
      "cell_type": "code",
      "execution_count": 322,
      "metadata": {},
      "outputs": [
        {
          "data": {
            "image/png": "[encoded data removed]",
            "text/plain": [
              "<Figure size 720x432 with 1 Axes>"
            ]
          },
          "metadata": {
            "needs_background": "light"
          },
          "output_type": "display_data"
        }
      ],
      "source": [
        "pitch_types = percentages_matrix_by_pitch_type['pitch_type']\n",
        "percentage_correct = percentages_matrix_by_pitch_type['Percentage Correct']\n",
        "percentage_incorrect = percentages_matrix_by_pitch_type['Percentage Incorrect']\n",
        "\n",
        "plt.figure(figsize=(10, 6))\n",
        "plt.bar(pitch_types, percentage_correct, color='teal', label='Correct Calls')\n",
        "plt.bar(pitch_types, percentage_incorrect, bottom=percentage_correct, color='pink', label='Incorrect Calls')\n",
        "\n",
        "plt.xlabel('Pitch Type')\n",
        "plt.ylabel('Percentage')\n",
        "plt.title('Percentage of Correct vs Incorrect Calls by Pitch Type')\n",
        "plt.legend()\n",
        "\n",
        "for index, value in enumerate(pitch_types):\n",
        "    plt.text(index, percentage_correct[index] / 2, f'{percentage_correct[index]:.1f}%', ha='center', color='white')\n",
        "    plt.text(index, percentage_correct[index] + percentage_incorrect[index] / 2, f'{percentage_incorrect[index]:.1f}%', ha='center', color='black')\n",
        "\n",
        "plt.show()"
      ]
    },
    {
      "cell_type": "markdown",
      "metadata": {},
      "source": [
        "##### Buckets for pitch type"
      ]
    },
    {
      "cell_type": "code",
      "execution_count": 323,
      "metadata": {},
      "outputs": [
        {
          "data": {
            "text/html": [
              "<div>\n",
              "<style scoped>\n",
              "    .dataframe tbody tr th:only-of-type {\n",
              "        vertical-align: middle;\n",
              "    }\n",
              "\n",
              "    .dataframe tbody tr th {\n",
              "        vertical-align: top;\n",
              "    }\n",
              "\n",
              "    .dataframe thead th {\n",
              "        text-align: right;\n",
              "    }\n",
              "</style>\n",
              "<table border=\"1\" class=\"dataframe\">\n",
              "  <thead>\n",
              "    <tr style=\"text-align: right;\">\n",
              "      <th></th>\n",
              "      <th>Pitch Group</th>\n",
              "      <th>Percentage Correct</th>\n",
              "      <th>Percentage Incorrect</th>\n",
              "    </tr>\n",
              "  </thead>\n",
              "  <tbody>\n",
              "    <tr>\n",
              "      <th>0</th>\n",
              "      <td>BB</td>\n",
              "      <td>92.575734</td>\n",
              "      <td>7.424266</td>\n",
              "    </tr>\n",
              "    <tr>\n",
              "      <th>1</th>\n",
              "      <td>FB</td>\n",
              "      <td>91.295555</td>\n",
              "      <td>8.704445</td>\n",
              "    </tr>\n",
              "    <tr>\n",
              "      <th>2</th>\n",
              "      <td>OS</td>\n",
              "      <td>94.290949</td>\n",
              "      <td>5.709051</td>\n",
              "    </tr>\n",
              "  </tbody>\n",
              "</table>\n",
              "</div>"
            ],
            "text/plain": [
              "  Pitch Group  Percentage Correct  Percentage Incorrect\n",
              "0          BB           92.575734              7.424266\n",
              "1          FB           91.295555              8.704445\n",
              "2          OS           94.290949              5.709051"
            ]
          },
          "execution_count": 323,
          "metadata": {},
          "output_type": "execute_result"
        }
      ],
      "source": [
        "pitch_type_map = {\n",
        "    'FA': 'FB', 'FF': 'FB', 'SI': 'FB',  # Fastballs\n",
        "    'SL': 'BB', 'FC': 'BB', 'CU': 'BB', 'CS': 'BB', 'KC': 'BB',  # Breaking Balls\n",
        "    'CH': 'OS', 'FS': 'OS', 'KN': 'OS', 'EP': 'OS'  # Off speed\n",
        "}\n",
        "\n",
        "df1['pitch_group'] = df1['pitch_type'].map(pitch_type_map)\n",
        "\n",
        "counts_by_pitch_group = df1.groupby(['pitch_group', 'correct_call']).size().unstack(fill_value=0)\n",
        "total_calls_by_pitch_group = counts_by_pitch_group.sum(axis=1)\n",
        "correct_calls_by_pitch_group = counts_by_pitch_group.get(1, 0)\n",
        "incorrect_calls_by_pitch_group = counts_by_pitch_group.get(0, 0)\n",
        "\n",
        "percentage_correct_calls_by_pitch_group = (correct_calls_by_pitch_group / total_calls_by_pitch_group) * 100\n",
        "percentage_incorrect_calls_by_pitch_group = (incorrect_calls_by_pitch_group / total_calls_by_pitch_group) * 100\n",
        "\n",
        "percentages_matrix_by_pitch_group = pd.DataFrame({\n",
        "    'Pitch Group': total_calls_by_pitch_group.index,\n",
        "    'Percentage Correct': percentage_correct_calls_by_pitch_group,\n",
        "    'Percentage Incorrect': percentage_incorrect_calls_by_pitch_group\n",
        "}).reset_index(drop=True)\n",
        "\n",
        "percentages_matrix_by_pitch_group"
      ]
    },
    {
      "cell_type": "code",
      "execution_count": 324,
      "metadata": {},
      "outputs": [
        {
          "data": {
            "image/png": "[encoded data removed]",
            "text/plain": [
              "<Figure size 720x432 with 1 Axes>"
            ]
          },
          "metadata": {
            "needs_background": "light"
          },
          "output_type": "display_data"
        }
      ],
      "source": [
        "pitch_types = percentages_matrix_by_pitch_group['Pitch Group']\n",
        "percentage_correct = percentages_matrix_by_pitch_group['Percentage Correct']\n",
        "percentage_incorrect = percentages_matrix_by_pitch_group['Percentage Incorrect']\n",
        "\n",
        "plt.figure(figsize=(10, 6))\n",
        "plt.bar(pitch_types, percentage_correct, color='teal', label='Correct Calls')\n",
        "plt.bar(pitch_types, percentage_incorrect, bottom=percentage_correct, color='pink', label='Incorrect Calls')\n",
        "\n",
        "plt.xlabel('Pitch Type')\n",
        "plt.ylabel('Percentage')\n",
        "plt.title('Percentage of Correct vs Incorrect Calls by Pitch Type')\n",
        "plt.legend(loc = 'lower left')\n",
        "\n",
        "for index, value in enumerate(pitch_types):\n",
        "    plt.text(index, percentage_correct[index] / 2, f'{percentage_correct[index]:.1f}%', ha='center', color='white')\n",
        "    plt.text(index, percentage_correct[index] + percentage_incorrect[index] / 2, f'{percentage_incorrect[index]:.1f}%', ha='center', color='black')\n",
        "\n",
        "plt.show()"
      ]
    },
    {
      "cell_type": "markdown",
      "metadata": {},
      "source": [
        "Does the Pitch Number have an effect on the call of the umpire?"
      ]
    },
    {
      "cell_type": "code",
      "execution_count": 325,
      "metadata": {},
      "outputs": [
        {
          "name": "stdout",
          "output_type": "stream",
          "text": [
            "111070\n",
            "pitch_number\n",
            "1     121920\n",
            "2      82560\n",
            "3      61477\n",
            "4      43724\n",
            "5      24189\n",
            "6      10647\n",
            "7       4164\n",
            "8       1522\n",
            "9        567\n",
            "10       175\n",
            "11        87\n",
            "12        17\n",
            "13         9\n",
            "14         2\n",
            "15         1\n",
            "16         1\n",
            "Name: count, dtype: int64\n"
          ]
        }
      ],
      "source": [
        "pitch_one_cc = 0\n",
        "for index, row in df1.iterrows():\n",
        "    if row['pitch_number'] == 1:\n",
        "        pitch_one_cc += row['correct_call']\n",
        "\n",
        "print(pitch_one_cc)\n",
        "print(df['pitch_number'].value_counts())\n",
        "\n",
        "pitch_two_cc = 0\n",
        "for index, row in df1.iterrows():\n",
        "    if row['pitch_number'] == 2:\n",
        "        pitch_two_cc += row['correct_call']\n"
      ]
    },
    {
      "cell_type": "code",
      "execution_count": 326,
      "metadata": {},
      "outputs": [
        {
          "data": {
            "image/png": "[encoded data removed]",
            "text/plain": [
              "<Figure size 432x288 with 1 Axes>"
            ]
          },
          "metadata": {
            "needs_background": "light"
          },
          "output_type": "display_data"
        }
      ],
      "source": [
        "import matplotlib.pyplot as plt\n",
        "\n",
        "counts = df1.groupby(['pitch_number', 'correct_call']).size().unstack(fill_value=0)\n",
        "\n",
        "bar_width = 0.35\n",
        "pitch_numbers = counts.index\n",
        "correct_calls =  counts[1]\n",
        "incorrect_calls = counts[0]\n",
        "\n",
        "plt.bar(pitch_numbers, correct_calls, width=bar_width, label='Correct Call', color='teal')\n",
        "plt.bar(pitch_numbers + bar_width, incorrect_calls, width=bar_width, label='Incorrect Call', color='pink')\n",
        "\n",
        "plt.xlabel('Pitch Number')\n",
        "plt.ylabel('Count')\n",
        "plt.title('Correct vs Incorrect Calls by Pitch Number')\n",
        "plt.legend()\n",
        "\n",
        "plt.xticks(pitch_numbers + bar_width, ['1', '2', '3', '4', '5', '6', '7', '8', '9', '10', '11', '12', '13', '14', '15', '16'])\n",
        "\n",
        "\n",
        "plt.show()\n"
      ]
    },
    {
      "cell_type": "markdown",
      "metadata": {},
      "source": [
        "The amount of data significantly diminishes as we go down the pitch number. We may have to decide whether or not we want to keep these rows or not. "
      ]
    },
    {
      "cell_type": "code",
      "execution_count": 327,
      "metadata": {},
      "outputs": [
        {
          "data": {
            "text/html": [
              "<div>\n",
              "<style scoped>\n",
              "    .dataframe tbody tr th:only-of-type {\n",
              "        vertical-align: middle;\n",
              "    }\n",
              "\n",
              "    .dataframe tbody tr th {\n",
              "        vertical-align: top;\n",
              "    }\n",
              "\n",
              "    .dataframe thead th {\n",
              "        text-align: right;\n",
              "    }\n",
              "</style>\n",
              "<table border=\"1\" class=\"dataframe\">\n",
              "  <thead>\n",
              "    <tr style=\"text-align: right;\">\n",
              "      <th></th>\n",
              "      <th>Percetage Correct</th>\n",
              "      <th>Percentage Incorrect</th>\n",
              "    </tr>\n",
              "    <tr>\n",
              "      <th>pitch_number</th>\n",
              "      <th></th>\n",
              "      <th></th>\n",
              "    </tr>\n",
              "  </thead>\n",
              "  <tbody>\n",
              "    <tr>\n",
              "      <th>1</th>\n",
              "      <td>91.151561</td>\n",
              "      <td>8.848439</td>\n",
              "    </tr>\n",
              "    <tr>\n",
              "      <th>2</th>\n",
              "      <td>91.808464</td>\n",
              "      <td>8.191536</td>\n",
              "    </tr>\n",
              "    <tr>\n",
              "      <th>3</th>\n",
              "      <td>92.802161</td>\n",
              "      <td>7.197839</td>\n",
              "    </tr>\n",
              "    <tr>\n",
              "      <th>4</th>\n",
              "      <td>93.405940</td>\n",
              "      <td>6.594060</td>\n",
              "    </tr>\n",
              "    <tr>\n",
              "      <th>5</th>\n",
              "      <td>93.244250</td>\n",
              "      <td>6.755750</td>\n",
              "    </tr>\n",
              "    <tr>\n",
              "      <th>6</th>\n",
              "      <td>93.098260</td>\n",
              "      <td>6.901740</td>\n",
              "    </tr>\n",
              "    <tr>\n",
              "      <th>7</th>\n",
              "      <td>93.554594</td>\n",
              "      <td>6.445406</td>\n",
              "    </tr>\n",
              "    <tr>\n",
              "      <th>8</th>\n",
              "      <td>93.491124</td>\n",
              "      <td>6.508876</td>\n",
              "    </tr>\n",
              "    <tr>\n",
              "      <th>9</th>\n",
              "      <td>94.003527</td>\n",
              "      <td>5.996473</td>\n",
              "    </tr>\n",
              "  </tbody>\n",
              "</table>\n",
              "</div>"
            ],
            "text/plain": [
              "              Percetage Correct  Percentage Incorrect\n",
              "pitch_number                                         \n",
              "1                     91.151561              8.848439\n",
              "2                     91.808464              8.191536\n",
              "3                     92.802161              7.197839\n",
              "4                     93.405940              6.594060\n",
              "5                     93.244250              6.755750\n",
              "6                     93.098260              6.901740\n",
              "7                     93.554594              6.445406\n",
              "8                     93.491124              6.508876\n",
              "9                     94.003527              5.996473"
            ]
          },
          "execution_count": 327,
          "metadata": {},
          "output_type": "execute_result"
        }
      ],
      "source": [
        "df_filtered = df1[df1['pitch_number'] <= 9]\n",
        "counts = df_filtered.groupby(['pitch_number', 'correct_call']).size().unstack(fill_value=0)\n",
        "total_calls = counts.sum(axis=1)\n",
        "correct_calls = counts[1]\n",
        "incorrect_calls = counts[0]\n",
        "\n",
        "percentage_correct_calls = (correct_calls / total_calls) * 100\n",
        "percentage_incorrect_calls = (incorrect_calls / total_calls)  * 100\n",
        "\n",
        "percentages_matrix = pd.DataFrame({\n",
        "    'Percetage Correct' : percentage_correct_calls,\n",
        "    'Percentage Incorrect' : percentage_incorrect_calls\n",
        "})\n",
        "\n",
        "percentages_matrix"
      ]
    },
    {
      "cell_type": "markdown",
      "metadata": {},
      "source": [
        "Visualized as a percentage rather than count"
      ]
    },
    {
      "cell_type": "code",
      "execution_count": 328,
      "metadata": {},
      "outputs": [
        {
          "data": {
            "image/png": "[encoded data removed]",
            "text/plain": [
              "<Figure size 720x432 with 1 Axes>"
            ]
          },
          "metadata": {
            "needs_background": "light"
          },
          "output_type": "display_data"
        }
      ],
      "source": [
        "bar_width = 0.9  \n",
        "pitch_numbers = counts.index\n",
        "\n",
        "plt.figure(figsize=(10, 6))  \n",
        "bars_correct = plt.bar(pitch_numbers, percentage_correct_calls, width=bar_width, label='Correct Call', color='teal')\n",
        "bars_incorrect = plt.bar(pitch_numbers, percentage_incorrect_calls, width=bar_width, bottom=percentage_correct_calls, label='Incorrect Call', color='pink')\n",
        "\n",
        "plt.xlabel('Pitch Number')\n",
        "plt.ylabel('Percentage')  \n",
        "plt.title('Correct vs Incorrect Calls by Pitch Number (Percentage)')\n",
        "plt.legend(loc = 'lower right')\n",
        "\n",
        "def add_labels(bars):\n",
        "    for bar in bars:\n",
        "        height = bar.get_height()\n",
        "        plt.text(bar.get_x() + bar.get_width() / 2., height, f'{height:.1f}%', ha='center', va='bottom')\n",
        "\n",
        "add_labels(bars_correct)\n",
        "\n",
        "for bar in bars_incorrect:\n",
        "    y_val = bar.get_y() + bar.get_height()\n",
        "    plt.text(bar.get_x() + bar.get_width() / 2., y_val, f'{bar.get_height():.1f}%', ha='center', va='bottom')\n",
        "\n",
        "plt.xticks(pitch_numbers, pitch_numbers) \n",
        "\n",
        "plt.tight_layout()  \n",
        "plt.show()"
      ]
    },
    {
      "cell_type": "markdown",
      "metadata": {},
      "source": [
        "Interesting how umpire accuracy improves as a the pitch number increases. "
      ]
    },
    {
      "cell_type": "code",
      "execution_count": 329,
      "metadata": {},
      "outputs": [
        {
          "name": "stdout",
          "output_type": "stream",
          "text": [
            "                 FB     BB     OS   Total  FB_percentage  BB_percentage  \\\n",
            "pitch_number                                                              \n",
            "1             64437  48500   8915  121852      52.881364      39.802383   \n",
            "2             39452  31059  12001   82512      47.813651      37.641798   \n",
            "3             29598  23138   8713   61449      48.166772      37.653989   \n",
            "4             23253  15046   5407   43706      53.203222      34.425479   \n",
            "5             12452   8649   3071   24172      51.514149      35.781069   \n",
            "6              5378   3820   1437   10635      50.568876      35.919135   \n",
            "7              2178   1432    548    4158      52.380952      34.439634   \n",
            "8               804    530    187    1521      52.859961      34.845496   \n",
            "9               304    191     72     567      53.615520      33.686067   \n",
            "\n",
            "              OS_percentage  \n",
            "pitch_number                 \n",
            "1                  7.316253  \n",
            "2                 14.544551  \n",
            "3                 14.179238  \n",
            "4                 12.371299  \n",
            "5                 12.704782  \n",
            "6                 13.511989  \n",
            "7                 13.179413  \n",
            "8                 12.294543  \n",
            "9                 12.698413  \n"
          ]
        }
      ],
      "source": [
        "occurrences_by_pitch_number = df1[df1['pitch_number'] <= 9].groupby('pitch_number')[['FB', 'BB', 'OS']].sum()\n",
        "occurrences_by_pitch_number['Total'] = occurrences_by_pitch_number.sum(axis=1)\n",
        "\n",
        "occurrences_by_pitch_number['FB_percentage'] = (occurrences_by_pitch_number['FB'] / occurrences_by_pitch_number['Total'])  * 100\n",
        "occurrences_by_pitch_number['BB_percentage'] = (occurrences_by_pitch_number['BB'] / occurrences_by_pitch_number['Total'])  * 100\n",
        "occurrences_by_pitch_number['OS_percentage'] = (occurrences_by_pitch_number['OS'] / occurrences_by_pitch_number['Total'])  * 100\n",
        "\n",
        "print(occurrences_by_pitch_number)\n"
      ]
    },
    {
      "cell_type": "markdown",
      "metadata": {},
      "source": [
        "Here we can see the percentage breakdown of each pitch number by pitch type. We can see it is rare for the first pitch to be off speed, but the second pitch is twice as likely to be off speed. The second and third pitches are the only scenarios where it is more likely for the pitcher to deliver a changeup than a fast ball.  "
      ]
    },
    {
      "cell_type": "code",
      "execution_count": 330,
      "metadata": {},
      "outputs": [
        {
          "name": "stdout",
          "output_type": "stream",
          "text": [
            "balls  strikes\n",
            "0      0          91.151561\n",
            "       1          92.774803\n",
            "       2          96.195164\n",
            "1      0          90.700760\n",
            "       1          92.193056\n",
            "       2          95.273698\n",
            "2      0          89.771507\n",
            "       1          91.257566\n",
            "       2          94.000218\n",
            "3      0          91.068329\n",
            "       1          90.374736\n",
            "       2          92.259066\n",
            "4      2          50.000000\n",
            "Name: correct_call, dtype: float64\n"
          ]
        }
      ],
      "source": [
        "correct_call_percentage = df1.groupby(['balls', 'strikes'])['correct_call'].mean() * 100\n",
        "\n",
        "print(correct_call_percentage)"
      ]
    },
    {
      "cell_type": "markdown",
      "metadata": {},
      "source": [
        "Small error in the dataset, it is not possible to face a pitch when 4 balls have been delivered. Upon review of the game footage for these pitches, it was in fact 3-2. The data was simply entered incorrectly. "
      ]
    },
    {
      "cell_type": "code",
      "execution_count": 331,
      "metadata": {},
      "outputs": [],
      "source": [
        "df1['balls'] = df1['balls'].replace(4, 3)\n"
      ]
    },
    {
      "cell_type": "markdown",
      "metadata": {},
      "source": [
        "This code will correct that error"
      ]
    },
    {
      "cell_type": "code",
      "execution_count": 332,
      "metadata": {},
      "outputs": [
        {
          "name": "stdout",
          "output_type": "stream",
          "text": [
            "balls  strikes\n",
            "0      0          91.151561\n",
            "       1          92.774803\n",
            "       2          96.195164\n",
            "1      0          90.700760\n",
            "       1          92.193056\n",
            "       2          95.273698\n",
            "2      0          89.771507\n",
            "       1          91.257566\n",
            "       2          94.000218\n",
            "3      0          91.068329\n",
            "       1          90.374736\n",
            "       2          92.249695\n",
            "Name: correct_call, dtype: float64\n"
          ]
        }
      ],
      "source": [
        "correct_call_percentage = df1.groupby(['balls', 'strikes'])['correct_call'].mean() * 100\n",
        "\n",
        "print(correct_call_percentage)"
      ]
    },
    {
      "cell_type": "markdown",
      "metadata": {
        "id": "w9FTWeB6BXYO"
      },
      "source": [
        "### Future Options for Analysis\n",
        "\n",
        "Do umpires calls get worse later in the game (correct call - y-axis, at bat number x-axis)\n",
        "\n",
        "group by each pitcher/batter/catcher (separately) and measure cc% for each (make sure sample size is large enough)\n",
        "\n",
        "prob called strike & prob called ball for each zone\n",
        "\n",
        "pitch type (x-axis) discreet strike_called_strike (y-axis) ball_called_strike (y-axis)\n",
        "\n",
        "P(CC) vs Strike-Count(x-axis)"
      ]
    },
    {
      "cell_type": "code",
      "execution_count": 333,
      "metadata": {},
      "outputs": [
        {
          "data": {
            "image/png": "[encoded data removed]",
            "text/plain": [
              "<Figure size 1152x1008 with 2 Axes>"
            ]
          },
          "metadata": {
            "needs_background": "light"
          },
          "output_type": "display_data"
        }
      ],
      "source": [
        "import seaborn as sns\n",
        "\n",
        "numerical_df = df1.select_dtypes(include=['number'])\n",
        "\n",
        "corr_matrix = numerical_df.corr()\n",
        "\n",
        "plt.figure(figsize=(16, 14))\n",
        "\n",
        "mask = np.triu(np.ones_like(corr_matrix, dtype=bool))\n",
        "\n",
        "sns.heatmap(corr_matrix, mask=mask, annot=True, fmt=\".2f\", cmap='viridis',\n",
        "            square=True, linewidths=.8, cbar_kws={\"shrink\": .8}, annot_kws={\"size\": 10})\n",
        "\n",
        "plt.xticks(rotation=45, ha=\"right\", fontsize=10)  # Rotate the x labels for better fit and set font size\n",
        "plt.yticks(fontsize=10)  # Set font size for y labels\n",
        "plt.title('Correlation Matrix of Numerical Variables', fontsize=16)\n",
        "\n",
        "plt.show()"
      ]
    },
    {
      "cell_type": "markdown",
      "metadata": {},
      "source": [
        "## Algorithms We Intend to Apply: \n",
        "\n",
        "Since we are predicting the probabilty that a pitch will be called a strike, this is a **regression** task\n",
        "\n",
        "The algorithms we plan on using for this task include: \n",
        "\n",
        "- Linear Regression : this model is good to use because it is simple and give us a baseline\n",
        "- XGBoost Regression : this model is a good option to use because it is able to handle non-linear data, weigh feature importance, and resist overfitting\n",
        "- MLP Regression : Multi-layer Perceptrons are a good option because it can model complex, non-linear relationships. Although it requires more data and computing power, it can provide better results. "
      ]
    }
  ],
  "metadata": {
    "colab": {
      "provenance": []
    },
    "kernelspec": {
      "display_name": "Python 3",
      "name": "python3"
    },
    "language_info": {
      "codemirror_mode": {
        "name": "ipython",
        "version": 3
      },
      "file_extension": ".py",
      "mimetype": "text/x-python",
      "name": "python",
      "nbconvert_exporter": "python",
      "pygments_lexer": "ipython3",
      "version": "3.11.2"
    }
  },
  "nbformat": 4,
  "nbformat_minor": 0
}
